{
 "cells": [
  {
   "cell_type": "code",
   "execution_count": null,
   "id": "13cf6460",
   "metadata": {},
   "outputs": [],
   "source": [
    "Question -> Show patient_id, first_name, last_name, and attending doctor's specialty.\n",
    "Show only the patients who has a diagnosis as 'Epilepsy' and the doctor's first name is 'Lisa'"
   ]
  },
  {
   "cell_type": "code",
   "execution_count": null,
   "id": "4c1fef11",
   "metadata": {},
   "outputs": [],
   "source": [
    "Solution:- \n",
    "select p.patient_id, \n",
    "        p.first_name,\n",
    "        p.last_name,\n",
    "        specialty from patients p \n",
    "        left join admissions a on p.patient_id = a.patient_id\n",
    "        left join doctors d on a.attending_doctor_id = d.doctor_id\n",
    "        where d.first_name = 'Lisa' and diagnosis = 'Epilepsy'"
   ]
  },
  {
   "cell_type": "code",
   "execution_count": null,
   "id": "3aed68e4",
   "metadata": {},
   "outputs": [],
   "source": []
  },
  {
   "cell_type": "code",
   "execution_count": null,
   "id": "0e39b400",
   "metadata": {},
   "outputs": [],
   "source": [
    "Question - All patients who have gone through admissions, can see their medical documents on our site. 
Those patients are given a temporary password after their first admission. 
Show the patient_id and temp_password.\n",
    "\n",
    "The password must be the following, in order:\n",
    "1. patient_id\n",
    "2. the numerical length of patient's last_name\n",
    "3. year of patient's birth_date"
   ]
  },
  {
   "cell_type": "code",
   "execution_count": null,
   "id": "34be6deb",
   "metadata": {},
   "outputs": [],
   "source": [
    "Solution:- \n",
    "with password_cte as (\n",
    "                select p.first_name,\n",
    "                        p.last_name, \n",
    "                        length(last_name) as ln_length,\n",
    "                        year(birth_date) as yb,\n",
    "                        p.patient_id,\n",
    "                        admission_date,\n",
    "                        dense_rank() over(partition by first_name,last_name 
                            order by admission_date desc) as admission_count \n",
    "                        from patients p \n",
    "                        inner join admissions a on p.patient_id = a.patient_id ) \n",
    "select distinct patient_id,\n",
    "                concat(patient_id,ln_length,yb) as temp_password \n",
    "                from password_cte"
   ]
  },
  {
   "cell_type": "markdown",
   "id": "9ce5ddbe",
   "metadata": {},
   "source": []
  },
  {
   "cell_type": "code",
   "execution_count": null,
   "id": "72ee42c5",
   "metadata": {},
   "outputs": [],
   "source": [
    "Question - For each day display the total amount of admissions on that day. 
     Display the amount changed from the previous date."
   ]
  },
  {
   "cell_type": "code",
   "execution_count": null,
   "id": "8f96bfcc",
   "metadata": {},
   "outputs": [],
   "source": [
    "Solution:- \n",
    "SELECT admission_date, \n",
    "       COUNT(*) AS admission_day, \n",
    "       COUNT(admission_date) - LAG(COUNT(admission_date)) 
            OVER (ORDER BY admission_date) AS admission_count_change\n",
    "FROM admissions\n",
    "GROUP BY admission_date\n",
    "ORDER BY admission_date;"
   ]
  },
  {
   "cell_type": "markdown",
   "id": "ee2edf2a",
   "metadata": {},
   "source": []
  },
  {
   "cell_type": "code",
   "execution_count": null,
   "id": "49645488",
   "metadata": {},
   "outputs": [],
   "source": [
    "Question - Show the provinces that has more patients identified as 'M' than 'F'. Must only show full province_name"
   ]
  },
  {
   "cell_type": "code",
   "execution_count": null,
   "id": "c019ee83",
   "metadata": {},
   "outputs": [],
   "source": [
    "Solution:- \n",
    "with province_cte as (\n",
    "    with temp_results as ( SELECT distinct \n",
    "                          province_name,gender, \n",
    "                        count(gender) over (partition by province_name,gender) as province_count \n",
    "                        FROM province_names p1 left join patients p2 \n",
    "                        on p1.province_id = p2.province_id \n",
    "                          where gender in ('M','F')) \n",
    "    select *, dense_rank() over ( partition by province_name order by province_count desc) province_filter 
                                        from temp_results ) \n",
    "select province_name from province_cte \n",
    "where province_filter = 1 and gender = 'M'\n"
   ]
  },
  {
   "cell_type": "markdown",
   "id": "ceb7234c",
   "metadata": {},
   "source": []
  },
  {
   "cell_type": "code",
   "execution_count": null,
   "id": "3f702b3e",
   "metadata": {},
   "outputs": [],
   "source": [
    "Question - Sort the province names in ascending order in such a way that the province 'Ontario' is always on top."
   ]
  },
  {
   "cell_type": "code",
   "execution_count": null,
   "id": "2226b071",
   "metadata": {},
   "outputs": [],
   "source": [
    "Solution:- \n",
    "SELECT province_name FROM province_names\n",
    "ORDER BY \n",
    "  CASE WHEN province_name = 'Ontario' THEN 0 ELSE 1 END,\n",
    "  province_name ASC;"
   ]
  },
  {
   "cell_type": "markdown",
   "id": "add3af35",
   "metadata": {},
   "source": []
  },
  {
   "cell_type": "code",
   "execution_count": null,
   "id": "7346e694",
   "metadata": {},
   "outputs": [],
   "source": [
    "Question - display the number of duplicate patients based on their first_name and last_name."
   ]
  },
  {
   "cell_type": "code",
   "execution_count": null,
   "id": "1d67e470",
   "metadata": {},
   "outputs": [],
   "source": [
    "Solution:- \n",
    "SELECT first_name,last_name ,count(first_name) num_of_duplicates\n",
    "    FROM patients\n",
    "    group by first_name,last_name \n",
    "    having num_of_duplicates > 1 "
   ]
  },
  {
   "cell_type": "code",
   "execution_count": null,
   "id": "4c320f70",
   "metadata": {},
   "outputs": [],
   "source": [
    "\n"
   ]
  }
 ],
 "metadata": {
  "kernelspec": {
   "display_name": "SQL",
   "language": "SQL",
   "name": "sql"
  },
  "language_info": {
   "codemirror_mode": "sql",
   "file_extension": ".sql",
   "mimetype": "",
   "name": "SQL",
   "nbconverter_exporter": "",
   "version": ""
  }
 },
 "nbformat": 4,
 "nbformat_minor": 5
}
