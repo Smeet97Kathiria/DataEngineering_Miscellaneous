{
 "cells": [
  {
   "cell_type": "code",
   "execution_count": 1,
   "id": "edb25293",
   "metadata": {},
   "outputs": [],
   "source": [
    "from pyspark.sql import SparkSession\n",
    "spark = SparkSession.builder.appName(\"Spark DataFrames\").getOrCreate()"
   ]
  },
  {
   "cell_type": "code",
   "execution_count": 2,
   "id": "61a4653c",
   "metadata": {},
   "outputs": [],
   "source": [
    "from pyspark.sql.functions import col, lit\n",
    "from pyspark.sql.functions import sum,avg,max,min,mean,count\n",
    "from pyspark.sql.types import IntegerType\n",
    "from pyspark.sql.functions import  udf\n",
    "from pyspark.sql.types import DoubleType\n",
    "from pyspark.sql import functions as F\n",
    "import pyspark.sql.types as pst\n",
    "from pyspark.sql import Row\n",
    "from pyspark.sql.types import StringType\n",
    "from pyspark.sql.types import StructType, StructField, StringType, IntegerType,MapType,FloatType\n",
    "from pyspark.sql import SQLContext\n",
    "from pyspark import SparkContext, SparkConf\n",
    "\n"
   ]
  },
  {
   "cell_type": "code",
   "execution_count": 3,
   "id": "8fb2a977",
   "metadata": {},
   "outputs": [
    {
     "name": "stdout",
     "output_type": "stream",
     "text": [
      "+---+------+----------------+------+------+-----+--------------------+\n",
      "|age|gender|            name|course|  roll|marks|               email|\n",
      "+---+------+----------------+------+------+-----+--------------------+\n",
      "| 28|Female| Hubert Oliveras|    DB|  2984|   59|Annika Hoffman_Na...|\n",
      "| 29|Female|Toshiko Hillyard| Cloud| 12899|   62|Margene Moores_Ma...|\n",
      "| 28|  Male|  Celeste Lollis|    PF| 21267|   45|Jeannetta Golden_...|\n",
      "| 29|Female|    Elenore Choy|    DB| 32877|   29|Billi Clore_Mitzi...|\n",
      "| 28|  Male|  Sheryll Towler|   DSA| 41487|   41|Claude Panos_Judi...|\n",
      "| 28|  Male|  Margene Moores|   MVC| 52771|   32|Toshiko Hillyard_...|\n",
      "| 28|  Male|     Neda Briski|   OOP| 61973|   69|Alberta Freund_El...|\n",
      "| 28|Female|    Claude Panos| Cloud| 72409|   85|Sheryll Towler_Al...|\n",
      "| 28|  Male|  Celeste Lollis|   MVC| 81492|   64|Nicole Harwood_Cl...|\n",
      "| 29|  Male|  Cordie Harnois|   OOP| 92882|   51|Judie Chipps_Clem...|\n",
      "| 29|Female|       Kena Wild|   DSA|102285|   35|Dustin Feagins_Ma...|\n",
      "| 29|  Male| Ernest Rossbach|    DB|111449|   53|Maybell Duguay_Ab...|\n",
      "| 28|Female|  Latia Vanhoose|    DB|122502|   27|Latia Vanhoose_Mi...|\n",
      "| 29|Female|  Latia Vanhoose|   MVC|132110|   55|Eda Neathery_Nico...|\n",
      "| 29|  Male|     Neda Briski|    PF|141770|   42|Margene Moores_Mi...|\n",
      "| 29|Female|  Latia Vanhoose|    DB|152159|   27|Claude Panos_Sant...|\n",
      "| 29|  Male|  Loris Crossett|   MVC|161771|   36|Mitzi Seldon_Jenn...|\n",
      "| 29|  Male|  Annika Hoffman|   OOP|171660|   22|Taryn Brownlee_Mi...|\n",
      "| 29|  Male|   Santa Kerfien|    PF|182129|   56|Judie Chipps_Tary...|\n",
      "| 28|Female|Mickey Cortright|    DB|192537|   62|Ernest Rossbach_M...|\n",
      "+---+------+----------------+------+------+-----+--------------------+\n",
      "only showing top 20 rows\n",
      "\n",
      "root\n",
      " |-- age: integer (nullable = true)\n",
      " |-- gender: string (nullable = true)\n",
      " |-- name: string (nullable = true)\n",
      " |-- course: string (nullable = true)\n",
      " |-- roll: integer (nullable = true)\n",
      " |-- marks: integer (nullable = true)\n",
      " |-- email: string (nullable = true)\n",
      "\n"
     ]
    }
   ],
   "source": [
    "# infer schema \n",
    "df = spark.read.options(inferSchema='True', header='True', delimiter=',').csv('/user/itv001290/StudentData.csv')\n",
    "df.show()\n",
    "df.printSchema()"
   ]
  },
  {
   "cell_type": "code",
   "execution_count": 4,
   "id": "5ae9af61",
   "metadata": {},
   "outputs": [
    {
     "name": "stdout",
     "output_type": "stream",
     "text": [
      "+---+------+----------------+------+------+-----+--------------------+\n",
      "|age|gender|            name|course|  roll|marks|               email|\n",
      "+---+------+----------------+------+------+-----+--------------------+\n",
      "| 28|Female| Hubert Oliveras|    DB| 02984|   59|Annika Hoffman_Na...|\n",
      "| 29|Female|Toshiko Hillyard| Cloud| 12899|   62|Margene Moores_Ma...|\n",
      "| 28|  Male|  Celeste Lollis|    PF| 21267|   45|Jeannetta Golden_...|\n",
      "| 29|Female|    Elenore Choy|    DB| 32877|   29|Billi Clore_Mitzi...|\n",
      "| 28|  Male|  Sheryll Towler|   DSA| 41487|   41|Claude Panos_Judi...|\n",
      "| 28|  Male|  Margene Moores|   MVC| 52771|   32|Toshiko Hillyard_...|\n",
      "| 28|  Male|     Neda Briski|   OOP| 61973|   69|Alberta Freund_El...|\n",
      "| 28|Female|    Claude Panos| Cloud| 72409|   85|Sheryll Towler_Al...|\n",
      "| 28|  Male|  Celeste Lollis|   MVC| 81492|   64|Nicole Harwood_Cl...|\n",
      "| 29|  Male|  Cordie Harnois|   OOP| 92882|   51|Judie Chipps_Clem...|\n",
      "| 29|Female|       Kena Wild|   DSA|102285|   35|Dustin Feagins_Ma...|\n",
      "| 29|  Male| Ernest Rossbach|    DB|111449|   53|Maybell Duguay_Ab...|\n",
      "| 28|Female|  Latia Vanhoose|    DB|122502|   27|Latia Vanhoose_Mi...|\n",
      "| 29|Female|  Latia Vanhoose|   MVC|132110|   55|Eda Neathery_Nico...|\n",
      "| 29|  Male|     Neda Briski|    PF|141770|   42|Margene Moores_Mi...|\n",
      "| 29|Female|  Latia Vanhoose|    DB|152159|   27|Claude Panos_Sant...|\n",
      "| 29|  Male|  Loris Crossett|   MVC|161771|   36|Mitzi Seldon_Jenn...|\n",
      "| 29|  Male|  Annika Hoffman|   OOP|171660|   22|Taryn Brownlee_Mi...|\n",
      "| 29|  Male|   Santa Kerfien|    PF|182129|   56|Judie Chipps_Tary...|\n",
      "| 28|Female|Mickey Cortright|    DB|192537|   62|Ernest Rossbach_M...|\n",
      "+---+------+----------------+------+------+-----+--------------------+\n",
      "only showing top 20 rows\n",
      "\n",
      "root\n",
      " |-- age: integer (nullable = true)\n",
      " |-- gender: string (nullable = true)\n",
      " |-- name: string (nullable = true)\n",
      " |-- course: string (nullable = true)\n",
      " |-- roll: string (nullable = true)\n",
      " |-- marks: integer (nullable = true)\n",
      " |-- email: string (nullable = true)\n",
      "\n"
     ]
    }
   ],
   "source": [
    "#Provide Schema \n",
    "\n",
    "\n",
    "from pyspark.sql.types import StructType, StructField, StringType, IntegerType\n",
    "\n",
    "schema = StructType([\n",
    "                    StructField(\"age\", IntegerType(), True),\n",
    "                    StructField(\"gender\", StringType(), True),\n",
    "                    StructField(\"name\", StringType(), True),\n",
    "                    StructField(\"course\", StringType(), True),\n",
    "                    StructField(\"roll\", StringType(), True),\n",
    "                    StructField(\"marks\", IntegerType(), True),\n",
    "                    StructField(\"email\", StringType(), True)\n",
    "])\n",
    "\n",
    "\n",
    "\n",
    "# COMMAND ----------\n",
    "\n",
    "df = spark.read.options(header='True').schema(schema).csv('/user/itv001290/StudentData.csv')\n",
    "df.show()\n",
    "df.printSchema()"
   ]
  },
  {
   "cell_type": "code",
   "execution_count": 5,
   "id": "9c9a22ec",
   "metadata": {},
   "outputs": [
    {
     "name": "stdout",
     "output_type": "stream",
     "text": [
      "+----------------+---+\n",
      "|            name|age|\n",
      "+----------------+---+\n",
      "| Hubert Oliveras| 28|\n",
      "|Toshiko Hillyard| 29|\n",
      "|  Celeste Lollis| 28|\n",
      "|    Elenore Choy| 29|\n",
      "|  Sheryll Towler| 28|\n",
      "|  Margene Moores| 28|\n",
      "|     Neda Briski| 28|\n",
      "|    Claude Panos| 28|\n",
      "|  Celeste Lollis| 28|\n",
      "|  Cordie Harnois| 29|\n",
      "|       Kena Wild| 29|\n",
      "| Ernest Rossbach| 29|\n",
      "|  Latia Vanhoose| 28|\n",
      "|  Latia Vanhoose| 29|\n",
      "|     Neda Briski| 29|\n",
      "|  Latia Vanhoose| 29|\n",
      "|  Loris Crossett| 29|\n",
      "|  Annika Hoffman| 29|\n",
      "|   Santa Kerfien| 29|\n",
      "|Mickey Cortright| 28|\n",
      "+----------------+---+\n",
      "only showing top 20 rows\n",
      "\n"
     ]
    }
   ],
   "source": [
    "df.select(\"name\",\"age\").show()"
   ]
  },
  {
   "cell_type": "code",
   "execution_count": 6,
   "id": "f680d4b7",
   "metadata": {},
   "outputs": [
    {
     "name": "stdout",
     "output_type": "stream",
     "text": [
      "+------+----------------+\n",
      "|  roll|            name|\n",
      "+------+----------------+\n",
      "| 02984| Hubert Oliveras|\n",
      "| 12899|Toshiko Hillyard|\n",
      "| 21267|  Celeste Lollis|\n",
      "| 32877|    Elenore Choy|\n",
      "| 41487|  Sheryll Towler|\n",
      "| 52771|  Margene Moores|\n",
      "| 61973|     Neda Briski|\n",
      "| 72409|    Claude Panos|\n",
      "| 81492|  Celeste Lollis|\n",
      "| 92882|  Cordie Harnois|\n",
      "|102285|       Kena Wild|\n",
      "|111449| Ernest Rossbach|\n",
      "|122502|  Latia Vanhoose|\n",
      "|132110|  Latia Vanhoose|\n",
      "|141770|     Neda Briski|\n",
      "|152159|  Latia Vanhoose|\n",
      "|161771|  Loris Crossett|\n",
      "|171660|  Annika Hoffman|\n",
      "|182129|   Santa Kerfien|\n",
      "|192537|Mickey Cortright|\n",
      "+------+----------------+\n",
      "only showing top 20 rows\n",
      "\n"
     ]
    }
   ],
   "source": [
    "from pyspark.sql.functions import col\n",
    "df.select(col(\"roll\"), col(\"name\")).show()"
   ]
  },
  {
   "cell_type": "code",
   "execution_count": 7,
   "id": "ca4c446f",
   "metadata": {},
   "outputs": [
    {
     "name": "stdout",
     "output_type": "stream",
     "text": [
      "+----------------+------+------+-----+\n",
      "|            name|course|  roll|marks|\n",
      "+----------------+------+------+-----+\n",
      "| Hubert Oliveras|    DB| 02984|   59|\n",
      "|Toshiko Hillyard| Cloud| 12899|   62|\n",
      "|  Celeste Lollis|    PF| 21267|   45|\n",
      "|    Elenore Choy|    DB| 32877|   29|\n",
      "|  Sheryll Towler|   DSA| 41487|   41|\n",
      "|  Margene Moores|   MVC| 52771|   32|\n",
      "|     Neda Briski|   OOP| 61973|   69|\n",
      "|    Claude Panos| Cloud| 72409|   85|\n",
      "|  Celeste Lollis|   MVC| 81492|   64|\n",
      "|  Cordie Harnois|   OOP| 92882|   51|\n",
      "|       Kena Wild|   DSA|102285|   35|\n",
      "| Ernest Rossbach|    DB|111449|   53|\n",
      "|  Latia Vanhoose|    DB|122502|   27|\n",
      "|  Latia Vanhoose|   MVC|132110|   55|\n",
      "|     Neda Briski|    PF|141770|   42|\n",
      "|  Latia Vanhoose|    DB|152159|   27|\n",
      "|  Loris Crossett|   MVC|161771|   36|\n",
      "|  Annika Hoffman|   OOP|171660|   22|\n",
      "|   Santa Kerfien|    PF|182129|   56|\n",
      "|Mickey Cortright|    DB|192537|   62|\n",
      "+----------------+------+------+-----+\n",
      "only showing top 20 rows\n",
      "\n"
     ]
    }
   ],
   "source": [
    "df.select(df.columns[2:6]).show()"
   ]
  },
  {
   "cell_type": "code",
   "execution_count": 8,
   "id": "b2b6c2cf",
   "metadata": {},
   "outputs": [
    {
     "name": "stdout",
     "output_type": "stream",
     "text": [
      "root\n",
      " |-- age: integer (nullable = true)\n",
      " |-- gender: string (nullable = true)\n",
      " |-- name: string (nullable = true)\n",
      " |-- course: string (nullable = true)\n",
      " |-- roll: string (nullable = true)\n",
      " |-- marks: integer (nullable = true)\n",
      " |-- email: string (nullable = true)\n",
      "\n"
     ]
    }
   ],
   "source": [
    "## Manipulating Column Data \n",
    "\n",
    "df.withColumn(\"roll\", col(\"roll\").cast(\"String\"))\n",
    "df.printSchema()"
   ]
  },
  {
   "cell_type": "code",
   "execution_count": 9,
   "id": "aac75167",
   "metadata": {},
   "outputs": [
    {
     "name": "stdout",
     "output_type": "stream",
     "text": [
      "+---+------+----------------+------+------+-----+--------------------+\n",
      "|age|gender|            name|course|  roll|marks|               email|\n",
      "+---+------+----------------+------+------+-----+--------------------+\n",
      "| 28|Female| Hubert Oliveras|    DB| 02984|   69|Annika Hoffman_Na...|\n",
      "| 29|Female|Toshiko Hillyard| Cloud| 12899|   72|Margene Moores_Ma...|\n",
      "| 28|  Male|  Celeste Lollis|    PF| 21267|   55|Jeannetta Golden_...|\n",
      "| 29|Female|    Elenore Choy|    DB| 32877|   39|Billi Clore_Mitzi...|\n",
      "| 28|  Male|  Sheryll Towler|   DSA| 41487|   51|Claude Panos_Judi...|\n",
      "| 28|  Male|  Margene Moores|   MVC| 52771|   42|Toshiko Hillyard_...|\n",
      "| 28|  Male|     Neda Briski|   OOP| 61973|   79|Alberta Freund_El...|\n",
      "| 28|Female|    Claude Panos| Cloud| 72409|   95|Sheryll Towler_Al...|\n",
      "| 28|  Male|  Celeste Lollis|   MVC| 81492|   74|Nicole Harwood_Cl...|\n",
      "| 29|  Male|  Cordie Harnois|   OOP| 92882|   61|Judie Chipps_Clem...|\n",
      "| 29|Female|       Kena Wild|   DSA|102285|   45|Dustin Feagins_Ma...|\n",
      "| 29|  Male| Ernest Rossbach|    DB|111449|   63|Maybell Duguay_Ab...|\n",
      "| 28|Female|  Latia Vanhoose|    DB|122502|   37|Latia Vanhoose_Mi...|\n",
      "| 29|Female|  Latia Vanhoose|   MVC|132110|   65|Eda Neathery_Nico...|\n",
      "| 29|  Male|     Neda Briski|    PF|141770|   52|Margene Moores_Mi...|\n",
      "| 29|Female|  Latia Vanhoose|    DB|152159|   37|Claude Panos_Sant...|\n",
      "| 29|  Male|  Loris Crossett|   MVC|161771|   46|Mitzi Seldon_Jenn...|\n",
      "| 29|  Male|  Annika Hoffman|   OOP|171660|   32|Taryn Brownlee_Mi...|\n",
      "| 29|  Male|   Santa Kerfien|    PF|182129|   66|Judie Chipps_Tary...|\n",
      "| 28|Female|Mickey Cortright|    DB|192537|   72|Ernest Rossbach_M...|\n",
      "+---+------+----------------+------+------+-----+--------------------+\n",
      "only showing top 20 rows\n",
      "\n"
     ]
    }
   ],
   "source": [
    "df.withColumn(\"marks\", col('marks') + 10).show()"
   ]
  },
  {
   "cell_type": "code",
   "execution_count": 10,
   "id": "f262fa5b",
   "metadata": {},
   "outputs": [
    {
     "data": {
      "text/html": [
       "<table border='1'>\n",
       "<tr><th>age</th><th>gender</th><th>name</th><th>course</th><th>roll</th><th>marks</th><th>email</th><th>aggregated marks</th></tr>\n",
       "<tr><td>28</td><td>Female</td><td>Hubert Oliveras</td><td>DB</td><td>02984</td><td>59</td><td>Annika Hoffman_Na...</td><td>49</td></tr>\n",
       "<tr><td>29</td><td>Female</td><td>Toshiko Hillyard</td><td>Cloud</td><td>12899</td><td>62</td><td>Margene Moores_Ma...</td><td>52</td></tr>\n",
       "<tr><td>28</td><td>Male</td><td>Celeste Lollis</td><td>PF</td><td>21267</td><td>45</td><td>Jeannetta Golden_...</td><td>35</td></tr>\n",
       "<tr><td>29</td><td>Female</td><td>Elenore Choy</td><td>DB</td><td>32877</td><td>29</td><td>Billi Clore_Mitzi...</td><td>19</td></tr>\n",
       "<tr><td>28</td><td>Male</td><td>Sheryll Towler</td><td>DSA</td><td>41487</td><td>41</td><td>Claude Panos_Judi...</td><td>31</td></tr>\n",
       "<tr><td>28</td><td>Male</td><td>Margene Moores</td><td>MVC</td><td>52771</td><td>32</td><td>Toshiko Hillyard_...</td><td>22</td></tr>\n",
       "<tr><td>28</td><td>Male</td><td>Neda Briski</td><td>OOP</td><td>61973</td><td>69</td><td>Alberta Freund_El...</td><td>59</td></tr>\n",
       "<tr><td>28</td><td>Female</td><td>Claude Panos</td><td>Cloud</td><td>72409</td><td>85</td><td>Sheryll Towler_Al...</td><td>75</td></tr>\n",
       "<tr><td>28</td><td>Male</td><td>Celeste Lollis</td><td>MVC</td><td>81492</td><td>64</td><td>Nicole Harwood_Cl...</td><td>54</td></tr>\n",
       "<tr><td>29</td><td>Male</td><td>Cordie Harnois</td><td>OOP</td><td>92882</td><td>51</td><td>Judie Chipps_Clem...</td><td>41</td></tr>\n",
       "<tr><td>29</td><td>Female</td><td>Kena Wild</td><td>DSA</td><td>102285</td><td>35</td><td>Dustin Feagins_Ma...</td><td>25</td></tr>\n",
       "<tr><td>29</td><td>Male</td><td>Ernest Rossbach</td><td>DB</td><td>111449</td><td>53</td><td>Maybell Duguay_Ab...</td><td>43</td></tr>\n",
       "<tr><td>28</td><td>Female</td><td>Latia Vanhoose</td><td>DB</td><td>122502</td><td>27</td><td>Latia Vanhoose_Mi...</td><td>17</td></tr>\n",
       "<tr><td>29</td><td>Female</td><td>Latia Vanhoose</td><td>MVC</td><td>132110</td><td>55</td><td>Eda Neathery_Nico...</td><td>45</td></tr>\n",
       "<tr><td>29</td><td>Male</td><td>Neda Briski</td><td>PF</td><td>141770</td><td>42</td><td>Margene Moores_Mi...</td><td>32</td></tr>\n",
       "<tr><td>29</td><td>Female</td><td>Latia Vanhoose</td><td>DB</td><td>152159</td><td>27</td><td>Claude Panos_Sant...</td><td>17</td></tr>\n",
       "<tr><td>29</td><td>Male</td><td>Loris Crossett</td><td>MVC</td><td>161771</td><td>36</td><td>Mitzi Seldon_Jenn...</td><td>26</td></tr>\n",
       "<tr><td>29</td><td>Male</td><td>Annika Hoffman</td><td>OOP</td><td>171660</td><td>22</td><td>Taryn Brownlee_Mi...</td><td>12</td></tr>\n",
       "<tr><td>29</td><td>Male</td><td>Santa Kerfien</td><td>PF</td><td>182129</td><td>56</td><td>Judie Chipps_Tary...</td><td>46</td></tr>\n",
       "<tr><td>28</td><td>Female</td><td>Mickey Cortright</td><td>DB</td><td>192537</td><td>62</td><td>Ernest Rossbach_M...</td><td>52</td></tr>\n",
       "</table>\n",
       "only showing top 20 rows\n"
      ],
      "text/plain": [
       "+---+------+----------------+------+------+-----+--------------------+----------------+\n",
       "|age|gender|            name|course|  roll|marks|               email|aggregated marks|\n",
       "+---+------+----------------+------+------+-----+--------------------+----------------+\n",
       "| 28|Female| Hubert Oliveras|    DB| 02984|   59|Annika Hoffman_Na...|              49|\n",
       "| 29|Female|Toshiko Hillyard| Cloud| 12899|   62|Margene Moores_Ma...|              52|\n",
       "| 28|  Male|  Celeste Lollis|    PF| 21267|   45|Jeannetta Golden_...|              35|\n",
       "| 29|Female|    Elenore Choy|    DB| 32877|   29|Billi Clore_Mitzi...|              19|\n",
       "| 28|  Male|  Sheryll Towler|   DSA| 41487|   41|Claude Panos_Judi...|              31|\n",
       "| 28|  Male|  Margene Moores|   MVC| 52771|   32|Toshiko Hillyard_...|              22|\n",
       "| 28|  Male|     Neda Briski|   OOP| 61973|   69|Alberta Freund_El...|              59|\n",
       "| 28|Female|    Claude Panos| Cloud| 72409|   85|Sheryll Towler_Al...|              75|\n",
       "| 28|  Male|  Celeste Lollis|   MVC| 81492|   64|Nicole Harwood_Cl...|              54|\n",
       "| 29|  Male|  Cordie Harnois|   OOP| 92882|   51|Judie Chipps_Clem...|              41|\n",
       "| 29|Female|       Kena Wild|   DSA|102285|   35|Dustin Feagins_Ma...|              25|\n",
       "| 29|  Male| Ernest Rossbach|    DB|111449|   53|Maybell Duguay_Ab...|              43|\n",
       "| 28|Female|  Latia Vanhoose|    DB|122502|   27|Latia Vanhoose_Mi...|              17|\n",
       "| 29|Female|  Latia Vanhoose|   MVC|132110|   55|Eda Neathery_Nico...|              45|\n",
       "| 29|  Male|     Neda Briski|    PF|141770|   42|Margene Moores_Mi...|              32|\n",
       "| 29|Female|  Latia Vanhoose|    DB|152159|   27|Claude Panos_Sant...|              17|\n",
       "| 29|  Male|  Loris Crossett|   MVC|161771|   36|Mitzi Seldon_Jenn...|              26|\n",
       "| 29|  Male|  Annika Hoffman|   OOP|171660|   22|Taryn Brownlee_Mi...|              12|\n",
       "| 29|  Male|   Santa Kerfien|    PF|182129|   56|Judie Chipps_Tary...|              46|\n",
       "| 28|Female|Mickey Cortright|    DB|192537|   62|Ernest Rossbach_M...|              52|\n",
       "+---+------+----------------+------+------+-----+--------------------+----------------+\n",
       "only showing top 20 rows"
      ]
     },
     "execution_count": 10,
     "metadata": {},
     "output_type": "execute_result"
    }
   ],
   "source": [
    " df.withColumn(\"aggregated marks\", col('marks') - 10)"
   ]
  },
  {
   "cell_type": "code",
   "execution_count": 11,
   "id": "ba311314",
   "metadata": {},
   "outputs": [
    {
     "data": {
      "text/html": [
       "<table border='1'>\n",
       "<tr><th>age</th><th>gender</th><th>name</th><th>course</th><th>roll</th><th>marks</th><th>email</th></tr>\n",
       "<tr><td>28</td><td>Female</td><td>USA</td><td>DB</td><td>02984</td><td>59</td><td>Annika Hoffman_Na...</td></tr>\n",
       "<tr><td>29</td><td>Female</td><td>USA</td><td>Cloud</td><td>12899</td><td>62</td><td>Margene Moores_Ma...</td></tr>\n",
       "<tr><td>28</td><td>Male</td><td>USA</td><td>PF</td><td>21267</td><td>45</td><td>Jeannetta Golden_...</td></tr>\n",
       "<tr><td>29</td><td>Female</td><td>USA</td><td>DB</td><td>32877</td><td>29</td><td>Billi Clore_Mitzi...</td></tr>\n",
       "<tr><td>28</td><td>Male</td><td>USA</td><td>DSA</td><td>41487</td><td>41</td><td>Claude Panos_Judi...</td></tr>\n",
       "<tr><td>28</td><td>Male</td><td>USA</td><td>MVC</td><td>52771</td><td>32</td><td>Toshiko Hillyard_...</td></tr>\n",
       "<tr><td>28</td><td>Male</td><td>USA</td><td>OOP</td><td>61973</td><td>69</td><td>Alberta Freund_El...</td></tr>\n",
       "<tr><td>28</td><td>Female</td><td>USA</td><td>Cloud</td><td>72409</td><td>85</td><td>Sheryll Towler_Al...</td></tr>\n",
       "<tr><td>28</td><td>Male</td><td>USA</td><td>MVC</td><td>81492</td><td>64</td><td>Nicole Harwood_Cl...</td></tr>\n",
       "<tr><td>29</td><td>Male</td><td>USA</td><td>OOP</td><td>92882</td><td>51</td><td>Judie Chipps_Clem...</td></tr>\n",
       "<tr><td>29</td><td>Female</td><td>USA</td><td>DSA</td><td>102285</td><td>35</td><td>Dustin Feagins_Ma...</td></tr>\n",
       "<tr><td>29</td><td>Male</td><td>USA</td><td>DB</td><td>111449</td><td>53</td><td>Maybell Duguay_Ab...</td></tr>\n",
       "<tr><td>28</td><td>Female</td><td>USA</td><td>DB</td><td>122502</td><td>27</td><td>Latia Vanhoose_Mi...</td></tr>\n",
       "<tr><td>29</td><td>Female</td><td>USA</td><td>MVC</td><td>132110</td><td>55</td><td>Eda Neathery_Nico...</td></tr>\n",
       "<tr><td>29</td><td>Male</td><td>USA</td><td>PF</td><td>141770</td><td>42</td><td>Margene Moores_Mi...</td></tr>\n",
       "<tr><td>29</td><td>Female</td><td>USA</td><td>DB</td><td>152159</td><td>27</td><td>Claude Panos_Sant...</td></tr>\n",
       "<tr><td>29</td><td>Male</td><td>USA</td><td>MVC</td><td>161771</td><td>36</td><td>Mitzi Seldon_Jenn...</td></tr>\n",
       "<tr><td>29</td><td>Male</td><td>USA</td><td>OOP</td><td>171660</td><td>22</td><td>Taryn Brownlee_Mi...</td></tr>\n",
       "<tr><td>29</td><td>Male</td><td>USA</td><td>PF</td><td>182129</td><td>56</td><td>Judie Chipps_Tary...</td></tr>\n",
       "<tr><td>28</td><td>Female</td><td>USA</td><td>DB</td><td>192537</td><td>62</td><td>Ernest Rossbach_M...</td></tr>\n",
       "</table>\n",
       "only showing top 20 rows\n"
      ],
      "text/plain": [
       "+---+------+----+------+------+-----+--------------------+\n",
       "|age|gender|name|course|  roll|marks|               email|\n",
       "+---+------+----+------+------+-----+--------------------+\n",
       "| 28|Female| USA|    DB| 02984|   59|Annika Hoffman_Na...|\n",
       "| 29|Female| USA| Cloud| 12899|   62|Margene Moores_Ma...|\n",
       "| 28|  Male| USA|    PF| 21267|   45|Jeannetta Golden_...|\n",
       "| 29|Female| USA|    DB| 32877|   29|Billi Clore_Mitzi...|\n",
       "| 28|  Male| USA|   DSA| 41487|   41|Claude Panos_Judi...|\n",
       "| 28|  Male| USA|   MVC| 52771|   32|Toshiko Hillyard_...|\n",
       "| 28|  Male| USA|   OOP| 61973|   69|Alberta Freund_El...|\n",
       "| 28|Female| USA| Cloud| 72409|   85|Sheryll Towler_Al...|\n",
       "| 28|  Male| USA|   MVC| 81492|   64|Nicole Harwood_Cl...|\n",
       "| 29|  Male| USA|   OOP| 92882|   51|Judie Chipps_Clem...|\n",
       "| 29|Female| USA|   DSA|102285|   35|Dustin Feagins_Ma...|\n",
       "| 29|  Male| USA|    DB|111449|   53|Maybell Duguay_Ab...|\n",
       "| 28|Female| USA|    DB|122502|   27|Latia Vanhoose_Mi...|\n",
       "| 29|Female| USA|   MVC|132110|   55|Eda Neathery_Nico...|\n",
       "| 29|  Male| USA|    PF|141770|   42|Margene Moores_Mi...|\n",
       "| 29|Female| USA|    DB|152159|   27|Claude Panos_Sant...|\n",
       "| 29|  Male| USA|   MVC|161771|   36|Mitzi Seldon_Jenn...|\n",
       "| 29|  Male| USA|   OOP|171660|   22|Taryn Brownlee_Mi...|\n",
       "| 29|  Male| USA|    PF|182129|   56|Judie Chipps_Tary...|\n",
       "| 28|Female| USA|    DB|192537|   62|Ernest Rossbach_M...|\n",
       "+---+------+----+------+------+-----+--------------------+\n",
       "only showing top 20 rows"
      ]
     },
     "execution_count": 11,
     "metadata": {},
     "output_type": "execute_result"
    }
   ],
   "source": [
    "\n",
    "df.withColumn(\"name\", lit(\"USA\"))"
   ]
  },
  {
   "cell_type": "code",
   "execution_count": 12,
   "id": "847f45bf",
   "metadata": {},
   "outputs": [
    {
     "data": {
      "text/html": [
       "<table border='1'>\n",
       "<tr><th>age</th><th>gender</th><th>name</th><th>course</th><th>roll</th><th>marks</th><th>email</th><th>updated marks</th><th>Country</th></tr>\n",
       "<tr><td>28</td><td>Female</td><td>Hubert Oliveras</td><td>DB</td><td>02984</td><td>49</td><td>Annika Hoffman_Na...</td><td>69</td><td>USA</td></tr>\n",
       "<tr><td>29</td><td>Female</td><td>Toshiko Hillyard</td><td>Cloud</td><td>12899</td><td>52</td><td>Margene Moores_Ma...</td><td>72</td><td>USA</td></tr>\n",
       "<tr><td>28</td><td>Male</td><td>Celeste Lollis</td><td>PF</td><td>21267</td><td>35</td><td>Jeannetta Golden_...</td><td>55</td><td>USA</td></tr>\n",
       "<tr><td>29</td><td>Female</td><td>Elenore Choy</td><td>DB</td><td>32877</td><td>19</td><td>Billi Clore_Mitzi...</td><td>39</td><td>USA</td></tr>\n",
       "<tr><td>28</td><td>Male</td><td>Sheryll Towler</td><td>DSA</td><td>41487</td><td>31</td><td>Claude Panos_Judi...</td><td>51</td><td>USA</td></tr>\n",
       "<tr><td>28</td><td>Male</td><td>Margene Moores</td><td>MVC</td><td>52771</td><td>22</td><td>Toshiko Hillyard_...</td><td>42</td><td>USA</td></tr>\n",
       "<tr><td>28</td><td>Male</td><td>Neda Briski</td><td>OOP</td><td>61973</td><td>59</td><td>Alberta Freund_El...</td><td>79</td><td>USA</td></tr>\n",
       "<tr><td>28</td><td>Female</td><td>Claude Panos</td><td>Cloud</td><td>72409</td><td>75</td><td>Sheryll Towler_Al...</td><td>95</td><td>USA</td></tr>\n",
       "<tr><td>28</td><td>Male</td><td>Celeste Lollis</td><td>MVC</td><td>81492</td><td>54</td><td>Nicole Harwood_Cl...</td><td>74</td><td>USA</td></tr>\n",
       "<tr><td>29</td><td>Male</td><td>Cordie Harnois</td><td>OOP</td><td>92882</td><td>41</td><td>Judie Chipps_Clem...</td><td>61</td><td>USA</td></tr>\n",
       "<tr><td>29</td><td>Female</td><td>Kena Wild</td><td>DSA</td><td>102285</td><td>25</td><td>Dustin Feagins_Ma...</td><td>45</td><td>USA</td></tr>\n",
       "<tr><td>29</td><td>Male</td><td>Ernest Rossbach</td><td>DB</td><td>111449</td><td>43</td><td>Maybell Duguay_Ab...</td><td>63</td><td>USA</td></tr>\n",
       "<tr><td>28</td><td>Female</td><td>Latia Vanhoose</td><td>DB</td><td>122502</td><td>17</td><td>Latia Vanhoose_Mi...</td><td>37</td><td>USA</td></tr>\n",
       "<tr><td>29</td><td>Female</td><td>Latia Vanhoose</td><td>MVC</td><td>132110</td><td>45</td><td>Eda Neathery_Nico...</td><td>65</td><td>USA</td></tr>\n",
       "<tr><td>29</td><td>Male</td><td>Neda Briski</td><td>PF</td><td>141770</td><td>32</td><td>Margene Moores_Mi...</td><td>52</td><td>USA</td></tr>\n",
       "<tr><td>29</td><td>Female</td><td>Latia Vanhoose</td><td>DB</td><td>152159</td><td>17</td><td>Claude Panos_Sant...</td><td>37</td><td>USA</td></tr>\n",
       "<tr><td>29</td><td>Male</td><td>Loris Crossett</td><td>MVC</td><td>161771</td><td>26</td><td>Mitzi Seldon_Jenn...</td><td>46</td><td>USA</td></tr>\n",
       "<tr><td>29</td><td>Male</td><td>Annika Hoffman</td><td>OOP</td><td>171660</td><td>12</td><td>Taryn Brownlee_Mi...</td><td>32</td><td>USA</td></tr>\n",
       "<tr><td>29</td><td>Male</td><td>Santa Kerfien</td><td>PF</td><td>182129</td><td>46</td><td>Judie Chipps_Tary...</td><td>66</td><td>USA</td></tr>\n",
       "<tr><td>28</td><td>Female</td><td>Mickey Cortright</td><td>DB</td><td>192537</td><td>52</td><td>Ernest Rossbach_M...</td><td>72</td><td>USA</td></tr>\n",
       "</table>\n",
       "only showing top 20 rows\n"
      ],
      "text/plain": [
       "+---+------+----------------+------+------+-----+--------------------+-------------+-------+\n",
       "|age|gender|            name|course|  roll|marks|               email|updated marks|Country|\n",
       "+---+------+----------------+------+------+-----+--------------------+-------------+-------+\n",
       "| 28|Female| Hubert Oliveras|    DB| 02984|   49|Annika Hoffman_Na...|           69|    USA|\n",
       "| 29|Female|Toshiko Hillyard| Cloud| 12899|   52|Margene Moores_Ma...|           72|    USA|\n",
       "| 28|  Male|  Celeste Lollis|    PF| 21267|   35|Jeannetta Golden_...|           55|    USA|\n",
       "| 29|Female|    Elenore Choy|    DB| 32877|   19|Billi Clore_Mitzi...|           39|    USA|\n",
       "| 28|  Male|  Sheryll Towler|   DSA| 41487|   31|Claude Panos_Judi...|           51|    USA|\n",
       "| 28|  Male|  Margene Moores|   MVC| 52771|   22|Toshiko Hillyard_...|           42|    USA|\n",
       "| 28|  Male|     Neda Briski|   OOP| 61973|   59|Alberta Freund_El...|           79|    USA|\n",
       "| 28|Female|    Claude Panos| Cloud| 72409|   75|Sheryll Towler_Al...|           95|    USA|\n",
       "| 28|  Male|  Celeste Lollis|   MVC| 81492|   54|Nicole Harwood_Cl...|           74|    USA|\n",
       "| 29|  Male|  Cordie Harnois|   OOP| 92882|   41|Judie Chipps_Clem...|           61|    USA|\n",
       "| 29|Female|       Kena Wild|   DSA|102285|   25|Dustin Feagins_Ma...|           45|    USA|\n",
       "| 29|  Male| Ernest Rossbach|    DB|111449|   43|Maybell Duguay_Ab...|           63|    USA|\n",
       "| 28|Female|  Latia Vanhoose|    DB|122502|   17|Latia Vanhoose_Mi...|           37|    USA|\n",
       "| 29|Female|  Latia Vanhoose|   MVC|132110|   45|Eda Neathery_Nico...|           65|    USA|\n",
       "| 29|  Male|     Neda Briski|    PF|141770|   32|Margene Moores_Mi...|           52|    USA|\n",
       "| 29|Female|  Latia Vanhoose|    DB|152159|   17|Claude Panos_Sant...|           37|    USA|\n",
       "| 29|  Male|  Loris Crossett|   MVC|161771|   26|Mitzi Seldon_Jenn...|           46|    USA|\n",
       "| 29|  Male|  Annika Hoffman|   OOP|171660|   12|Taryn Brownlee_Mi...|           32|    USA|\n",
       "| 29|  Male|   Santa Kerfien|    PF|182129|   46|Judie Chipps_Tary...|           66|    USA|\n",
       "| 28|Female|Mickey Cortright|    DB|192537|   52|Ernest Rossbach_M...|           72|    USA|\n",
       "+---+------+----------------+------+------+-----+--------------------+-------------+-------+\n",
       "only showing top 20 rows"
      ]
     },
     "execution_count": 12,
     "metadata": {},
     "output_type": "execute_result"
    }
   ],
   "source": [
    "# multiple transformation with same dataframe for more than one column\n",
    "df.withColumn(\"marks\", col(\"marks\") - 10).withColumn(\"updated marks\", col(\"marks\") + 20).withColumn(\"Country\", lit(\"USA\"))"
   ]
  },
  {
   "cell_type": "code",
   "execution_count": 13,
   "id": "f34fee95",
   "metadata": {},
   "outputs": [
    {
     "data": {
      "text/html": [
       "<table border='1'>\n",
       "<tr><th>age</th><th>sex</th><th>name</th><th>course</th><th>roll number</th><th>marks</th><th>email</th></tr>\n",
       "<tr><td>28</td><td>Female</td><td>Hubert Oliveras</td><td>DB</td><td>02984</td><td>59</td><td>Annika Hoffman_Na...</td></tr>\n",
       "<tr><td>29</td><td>Female</td><td>Toshiko Hillyard</td><td>Cloud</td><td>12899</td><td>62</td><td>Margene Moores_Ma...</td></tr>\n",
       "<tr><td>28</td><td>Male</td><td>Celeste Lollis</td><td>PF</td><td>21267</td><td>45</td><td>Jeannetta Golden_...</td></tr>\n",
       "<tr><td>29</td><td>Female</td><td>Elenore Choy</td><td>DB</td><td>32877</td><td>29</td><td>Billi Clore_Mitzi...</td></tr>\n",
       "<tr><td>28</td><td>Male</td><td>Sheryll Towler</td><td>DSA</td><td>41487</td><td>41</td><td>Claude Panos_Judi...</td></tr>\n",
       "<tr><td>28</td><td>Male</td><td>Margene Moores</td><td>MVC</td><td>52771</td><td>32</td><td>Toshiko Hillyard_...</td></tr>\n",
       "<tr><td>28</td><td>Male</td><td>Neda Briski</td><td>OOP</td><td>61973</td><td>69</td><td>Alberta Freund_El...</td></tr>\n",
       "<tr><td>28</td><td>Female</td><td>Claude Panos</td><td>Cloud</td><td>72409</td><td>85</td><td>Sheryll Towler_Al...</td></tr>\n",
       "<tr><td>28</td><td>Male</td><td>Celeste Lollis</td><td>MVC</td><td>81492</td><td>64</td><td>Nicole Harwood_Cl...</td></tr>\n",
       "<tr><td>29</td><td>Male</td><td>Cordie Harnois</td><td>OOP</td><td>92882</td><td>51</td><td>Judie Chipps_Clem...</td></tr>\n",
       "<tr><td>29</td><td>Female</td><td>Kena Wild</td><td>DSA</td><td>102285</td><td>35</td><td>Dustin Feagins_Ma...</td></tr>\n",
       "<tr><td>29</td><td>Male</td><td>Ernest Rossbach</td><td>DB</td><td>111449</td><td>53</td><td>Maybell Duguay_Ab...</td></tr>\n",
       "<tr><td>28</td><td>Female</td><td>Latia Vanhoose</td><td>DB</td><td>122502</td><td>27</td><td>Latia Vanhoose_Mi...</td></tr>\n",
       "<tr><td>29</td><td>Female</td><td>Latia Vanhoose</td><td>MVC</td><td>132110</td><td>55</td><td>Eda Neathery_Nico...</td></tr>\n",
       "<tr><td>29</td><td>Male</td><td>Neda Briski</td><td>PF</td><td>141770</td><td>42</td><td>Margene Moores_Mi...</td></tr>\n",
       "<tr><td>29</td><td>Female</td><td>Latia Vanhoose</td><td>DB</td><td>152159</td><td>27</td><td>Claude Panos_Sant...</td></tr>\n",
       "<tr><td>29</td><td>Male</td><td>Loris Crossett</td><td>MVC</td><td>161771</td><td>36</td><td>Mitzi Seldon_Jenn...</td></tr>\n",
       "<tr><td>29</td><td>Male</td><td>Annika Hoffman</td><td>OOP</td><td>171660</td><td>22</td><td>Taryn Brownlee_Mi...</td></tr>\n",
       "<tr><td>29</td><td>Male</td><td>Santa Kerfien</td><td>PF</td><td>182129</td><td>56</td><td>Judie Chipps_Tary...</td></tr>\n",
       "<tr><td>28</td><td>Female</td><td>Mickey Cortright</td><td>DB</td><td>192537</td><td>62</td><td>Ernest Rossbach_M...</td></tr>\n",
       "</table>\n",
       "only showing top 20 rows\n"
      ],
      "text/plain": [
       "+---+------+----------------+------+-----------+-----+--------------------+\n",
       "|age|   sex|            name|course|roll number|marks|               email|\n",
       "+---+------+----------------+------+-----------+-----+--------------------+\n",
       "| 28|Female| Hubert Oliveras|    DB|      02984|   59|Annika Hoffman_Na...|\n",
       "| 29|Female|Toshiko Hillyard| Cloud|      12899|   62|Margene Moores_Ma...|\n",
       "| 28|  Male|  Celeste Lollis|    PF|      21267|   45|Jeannetta Golden_...|\n",
       "| 29|Female|    Elenore Choy|    DB|      32877|   29|Billi Clore_Mitzi...|\n",
       "| 28|  Male|  Sheryll Towler|   DSA|      41487|   41|Claude Panos_Judi...|\n",
       "| 28|  Male|  Margene Moores|   MVC|      52771|   32|Toshiko Hillyard_...|\n",
       "| 28|  Male|     Neda Briski|   OOP|      61973|   69|Alberta Freund_El...|\n",
       "| 28|Female|    Claude Panos| Cloud|      72409|   85|Sheryll Towler_Al...|\n",
       "| 28|  Male|  Celeste Lollis|   MVC|      81492|   64|Nicole Harwood_Cl...|\n",
       "| 29|  Male|  Cordie Harnois|   OOP|      92882|   51|Judie Chipps_Clem...|\n",
       "| 29|Female|       Kena Wild|   DSA|     102285|   35|Dustin Feagins_Ma...|\n",
       "| 29|  Male| Ernest Rossbach|    DB|     111449|   53|Maybell Duguay_Ab...|\n",
       "| 28|Female|  Latia Vanhoose|    DB|     122502|   27|Latia Vanhoose_Mi...|\n",
       "| 29|Female|  Latia Vanhoose|   MVC|     132110|   55|Eda Neathery_Nico...|\n",
       "| 29|  Male|     Neda Briski|    PF|     141770|   42|Margene Moores_Mi...|\n",
       "| 29|Female|  Latia Vanhoose|    DB|     152159|   27|Claude Panos_Sant...|\n",
       "| 29|  Male|  Loris Crossett|   MVC|     161771|   36|Mitzi Seldon_Jenn...|\n",
       "| 29|  Male|  Annika Hoffman|   OOP|     171660|   22|Taryn Brownlee_Mi...|\n",
       "| 29|  Male|   Santa Kerfien|    PF|     182129|   56|Judie Chipps_Tary...|\n",
       "| 28|Female|Mickey Cortright|    DB|     192537|   62|Ernest Rossbach_M...|\n",
       "+---+------+----------------+------+-----------+-----+--------------------+\n",
       "only showing top 20 rows"
      ]
     },
     "execution_count": 13,
     "metadata": {},
     "output_type": "execute_result"
    }
   ],
   "source": [
    "df.withColumnRenamed(\"gender\",\"sex\").withColumnRenamed(\"roll\", \"roll number\")"
   ]
  },
  {
   "cell_type": "code",
   "execution_count": 14,
   "id": "eb8729dc",
   "metadata": {},
   "outputs": [
    {
     "data": {
      "text/html": [
       "<table border='1'>\n",
       "<tr><th>Full Name</th></tr>\n",
       "<tr><td>Hubert Oliveras</td></tr>\n",
       "<tr><td>Toshiko Hillyard</td></tr>\n",
       "<tr><td>Celeste Lollis</td></tr>\n",
       "<tr><td>Elenore Choy</td></tr>\n",
       "<tr><td>Sheryll Towler</td></tr>\n",
       "<tr><td>Margene Moores</td></tr>\n",
       "<tr><td>Neda Briski</td></tr>\n",
       "<tr><td>Claude Panos</td></tr>\n",
       "<tr><td>Celeste Lollis</td></tr>\n",
       "<tr><td>Cordie Harnois</td></tr>\n",
       "<tr><td>Kena Wild</td></tr>\n",
       "<tr><td>Ernest Rossbach</td></tr>\n",
       "<tr><td>Latia Vanhoose</td></tr>\n",
       "<tr><td>Latia Vanhoose</td></tr>\n",
       "<tr><td>Neda Briski</td></tr>\n",
       "<tr><td>Latia Vanhoose</td></tr>\n",
       "<tr><td>Loris Crossett</td></tr>\n",
       "<tr><td>Annika Hoffman</td></tr>\n",
       "<tr><td>Santa Kerfien</td></tr>\n",
       "<tr><td>Mickey Cortright</td></tr>\n",
       "</table>\n",
       "only showing top 20 rows\n"
      ],
      "text/plain": [
       "+----------------+\n",
       "|       Full Name|\n",
       "+----------------+\n",
       "| Hubert Oliveras|\n",
       "|Toshiko Hillyard|\n",
       "|  Celeste Lollis|\n",
       "|    Elenore Choy|\n",
       "|  Sheryll Towler|\n",
       "|  Margene Moores|\n",
       "|     Neda Briski|\n",
       "|    Claude Panos|\n",
       "|  Celeste Lollis|\n",
       "|  Cordie Harnois|\n",
       "|       Kena Wild|\n",
       "| Ernest Rossbach|\n",
       "|  Latia Vanhoose|\n",
       "|  Latia Vanhoose|\n",
       "|     Neda Briski|\n",
       "|  Latia Vanhoose|\n",
       "|  Loris Crossett|\n",
       "|  Annika Hoffman|\n",
       "|   Santa Kerfien|\n",
       "|Mickey Cortright|\n",
       "+----------------+\n",
       "only showing top 20 rows"
      ]
     },
     "execution_count": 14,
     "metadata": {},
     "output_type": "execute_result"
    }
   ],
   "source": [
    "df.select(col(\"name\").alias(\"Full Name\"))\n"
   ]
  },
  {
   "cell_type": "code",
   "execution_count": 15,
   "id": "d6eeabec",
   "metadata": {},
   "outputs": [
    {
     "name": "stdout",
     "output_type": "stream",
     "text": [
      "+---+------+-----------------+------+-------+-----+--------------------+\n",
      "|age|gender|             name|course|   roll|marks|               email|\n",
      "+---+------+-----------------+------+-------+-----+--------------------+\n",
      "| 28|Female|  Hubert Oliveras|    DB|  02984|   59|Annika Hoffman_Na...|\n",
      "| 29|Female|     Elenore Choy|    DB|  32877|   29|Billi Clore_Mitzi...|\n",
      "| 29|  Male|  Ernest Rossbach|    DB| 111449|   53|Maybell Duguay_Ab...|\n",
      "| 28|Female|   Latia Vanhoose|    DB| 122502|   27|Latia Vanhoose_Mi...|\n",
      "| 29|Female|   Latia Vanhoose|    DB| 152159|   27|Claude Panos_Sant...|\n",
      "| 28|Female| Mickey Cortright|    DB| 192537|   62|Ernest Rossbach_M...|\n",
      "| 28|Female|      Anna Santos|    DB| 311589|   79|Celeste Lollis_Mi...|\n",
      "| 28|  Male|    Kizzy Brenner|    DB| 381712|   36|Paris Hutton_Kena...|\n",
      "| 28|  Male| Toshiko Hillyard|    DB| 392218|   47|Leontine Phillips...|\n",
      "| 29|  Male|     Paris Hutton|    DB| 481229|   57|Clementina Menke_...|\n",
      "| 28|Female| Mickey Cortright|    DB| 551389|   43|Tijuana Kropf_Jen...|\n",
      "| 28|Female|Leontine Phillips|    DB| 602404|   48|Neda Briski_Cheri...|\n",
      "| 28|Female|  Hubert Oliveras|    DB| 771081|   79|Kizzy Brenner_Dus...|\n",
      "| 29|Female|     Elenore Choy|    DB| 811824|   55|Maybell Duguay_Me...|\n",
      "| 29|  Male| Clementina Menke|    DB| 882200|   76|Michelle Ruggiero...|\n",
      "| 29|Female|  Sebrina Maresca|    DB| 922210|   54|Toshiko Hillyard_...|\n",
      "| 29|  Male|     Naoma Fritts|    DB| 931295|   79|Hubert Oliveras_S...|\n",
      "| 28|  Male|   Annika Hoffman|    DB|1031544|   44|Dustin Feagins_So...|\n",
      "| 28|  Male|   Nicole Harwood|    DB|1211495|   28|Melani Engberg_Jc...|\n",
      "| 29|Female|     Claude Panos|    DB|1222887|   75|Hubert Oliveras_S...|\n",
      "+---+------+-----------------+------+-------+-----+--------------------+\n",
      "only showing top 20 rows\n",
      "\n"
     ]
    }
   ],
   "source": [
    "df.filter(df.course == \"DB\").show()\n"
   ]
  },
  {
   "cell_type": "code",
   "execution_count": 16,
   "id": "89ee9a1d",
   "metadata": {},
   "outputs": [
    {
     "name": "stdout",
     "output_type": "stream",
     "text": [
      "+---+------+-----------------+------+-------+-----+--------------------+\n",
      "|age|gender|             name|course|   roll|marks|               email|\n",
      "+---+------+-----------------+------+-------+-----+--------------------+\n",
      "| 28|Female|  Hubert Oliveras|    DB|  02984|   59|Annika Hoffman_Na...|\n",
      "| 29|Female|     Elenore Choy|    DB|  32877|   29|Billi Clore_Mitzi...|\n",
      "| 29|  Male|  Ernest Rossbach|    DB| 111449|   53|Maybell Duguay_Ab...|\n",
      "| 28|Female|   Latia Vanhoose|    DB| 122502|   27|Latia Vanhoose_Mi...|\n",
      "| 29|Female|   Latia Vanhoose|    DB| 152159|   27|Claude Panos_Sant...|\n",
      "| 28|Female| Mickey Cortright|    DB| 192537|   62|Ernest Rossbach_M...|\n",
      "| 28|Female|      Anna Santos|    DB| 311589|   79|Celeste Lollis_Mi...|\n",
      "| 28|  Male|    Kizzy Brenner|    DB| 381712|   36|Paris Hutton_Kena...|\n",
      "| 28|  Male| Toshiko Hillyard|    DB| 392218|   47|Leontine Phillips...|\n",
      "| 29|  Male|     Paris Hutton|    DB| 481229|   57|Clementina Menke_...|\n",
      "| 28|Female| Mickey Cortright|    DB| 551389|   43|Tijuana Kropf_Jen...|\n",
      "| 28|Female|Leontine Phillips|    DB| 602404|   48|Neda Briski_Cheri...|\n",
      "| 28|Female|  Hubert Oliveras|    DB| 771081|   79|Kizzy Brenner_Dus...|\n",
      "| 29|Female|     Elenore Choy|    DB| 811824|   55|Maybell Duguay_Me...|\n",
      "| 29|  Male| Clementina Menke|    DB| 882200|   76|Michelle Ruggiero...|\n",
      "| 29|Female|  Sebrina Maresca|    DB| 922210|   54|Toshiko Hillyard_...|\n",
      "| 29|  Male|     Naoma Fritts|    DB| 931295|   79|Hubert Oliveras_S...|\n",
      "| 28|  Male|   Annika Hoffman|    DB|1031544|   44|Dustin Feagins_So...|\n",
      "| 28|  Male|   Nicole Harwood|    DB|1211495|   28|Melani Engberg_Jc...|\n",
      "| 29|Female|     Claude Panos|    DB|1222887|   75|Hubert Oliveras_S...|\n",
      "+---+------+-----------------+------+-------+-----+--------------------+\n",
      "only showing top 20 rows\n",
      "\n"
     ]
    }
   ],
   "source": [
    "df.filter(col(\"course\") == \"DB\").show()\n"
   ]
  },
  {
   "cell_type": "code",
   "execution_count": 17,
   "id": "447b2068",
   "metadata": {},
   "outputs": [
    {
     "name": "stdout",
     "output_type": "stream",
     "text": [
      "+---+------+------------------+------+-------+-----+--------------------+\n",
      "|age|gender|              name|course|   roll|marks|               email|\n",
      "+---+------+------------------+------+-------+-----+--------------------+\n",
      "| 28|Female|   Hubert Oliveras|    DB|  02984|   59|Annika Hoffman_Na...|\n",
      "| 29|  Male|   Ernest Rossbach|    DB| 111449|   53|Maybell Duguay_Ab...|\n",
      "| 28|Female|  Mickey Cortright|    DB| 192537|   62|Ernest Rossbach_M...|\n",
      "| 28|Female|       Anna Santos|    DB| 311589|   79|Celeste Lollis_Mi...|\n",
      "| 29|  Male|      Paris Hutton|    DB| 481229|   57|Clementina Menke_...|\n",
      "| 28|Female|   Hubert Oliveras|    DB| 771081|   79|Kizzy Brenner_Dus...|\n",
      "| 29|Female|      Elenore Choy|    DB| 811824|   55|Maybell Duguay_Me...|\n",
      "| 29|  Male|  Clementina Menke|    DB| 882200|   76|Michelle Ruggiero...|\n",
      "| 29|Female|   Sebrina Maresca|    DB| 922210|   54|Toshiko Hillyard_...|\n",
      "| 29|  Male|      Naoma Fritts|    DB| 931295|   79|Hubert Oliveras_S...|\n",
      "| 29|Female|      Claude Panos|    DB|1222887|   75|Hubert Oliveras_S...|\n",
      "| 29|Female| Leontine Phillips|    DB|1432252|   67|Billi Clore_Shery...|\n",
      "| 28|Female|   Gonzalo Ferebee|    DB|1451513|   69|Claude Panos_Tame...|\n",
      "| 28|  Male|   Marylee Capasso|    DB|1611411|   96|Annika Hoffman_Lo...|\n",
      "| 29|  Male|    Alberta Freund|    DB|1671638|   98|Clementina Menke_...|\n",
      "| 28|Female|Priscila Tavernier|    DB|1722388|   86|Lawanda Wohlwend_...|\n",
      "| 29|  Male|    Dustin Feagins|    DB|1782045|   81|Cordie Harnois_To...|\n",
      "| 29|  Male|     Tijuana Kropf|    DB|1882795|   92|Hubert Oliveras_E...|\n",
      "| 28|  Male|   Ernest Rossbach|    DB|1901492|   54|Latia Vanhoose_Jc...|\n",
      "| 29|Female| Leontine Phillips|    DB|1972893|   64|Marylee Capasso_E...|\n",
      "+---+------+------------------+------+-------+-----+--------------------+\n",
      "only showing top 20 rows\n",
      "\n"
     ]
    }
   ],
   "source": [
    "df.filter( (df.course == \"DB\") & (df.marks > 50) ).show()\n"
   ]
  },
  {
   "cell_type": "code",
   "execution_count": 18,
   "id": "c20f4964",
   "metadata": {},
   "outputs": [
    {
     "name": "stdout",
     "output_type": "stream",
     "text": [
      "+---+------+----------------+------+------+-----+--------------------+\n",
      "|age|gender|            name|course|  roll|marks|               email|\n",
      "+---+------+----------------+------+------+-----+--------------------+\n",
      "| 28|Female| Hubert Oliveras|    DB| 02984|   59|Annika Hoffman_Na...|\n",
      "| 29|Female|Toshiko Hillyard| Cloud| 12899|   62|Margene Moores_Ma...|\n",
      "| 29|Female|    Elenore Choy|    DB| 32877|   29|Billi Clore_Mitzi...|\n",
      "| 28|  Male|  Sheryll Towler|   DSA| 41487|   41|Claude Panos_Judi...|\n",
      "| 28|  Male|     Neda Briski|   OOP| 61973|   69|Alberta Freund_El...|\n",
      "| 28|Female|    Claude Panos| Cloud| 72409|   85|Sheryll Towler_Al...|\n",
      "| 29|  Male|  Cordie Harnois|   OOP| 92882|   51|Judie Chipps_Clem...|\n",
      "| 29|Female|       Kena Wild|   DSA|102285|   35|Dustin Feagins_Ma...|\n",
      "| 29|  Male| Ernest Rossbach|    DB|111449|   53|Maybell Duguay_Ab...|\n",
      "| 28|Female|  Latia Vanhoose|    DB|122502|   27|Latia Vanhoose_Mi...|\n",
      "| 29|Female|  Latia Vanhoose|    DB|152159|   27|Claude Panos_Sant...|\n",
      "| 29|  Male|  Annika Hoffman|   OOP|171660|   22|Taryn Brownlee_Mi...|\n",
      "| 28|Female|Mickey Cortright|    DB|192537|   62|Ernest Rossbach_M...|\n",
      "| 28|Female|       Kena Wild| Cloud|221750|   60|Mitzi Seldon_Jenn...|\n",
      "| 28|Female|    Jc Andrepont|   DSA|232060|   58|Billi Clore_Abram...|\n",
      "| 29|Female|     Anna Santos| Cloud|242254|   68|Jc Andrepont_Hube...|\n",
      "| 28|Female|  Alberta Freund|   OOP|251805|   83|Annika Hoffman_Sh...|\n",
      "| 28|Female|  Maybell Duguay| Cloud|261439|   20|Nicole Harwood_Ju...|\n",
      "| 29|Female|    Paris Hutton|   DSA|271472|   99|Sheryll Towler_Al...|\n",
      "| 29|Female|    Cheri Kenney| Cloud|281408|   43|Annika Hoffman_Me...|\n",
      "+---+------+----------------+------+------+-----+--------------------+\n",
      "only showing top 20 rows\n",
      "\n"
     ]
    }
   ],
   "source": [
    "courses = [\"DB\", \"Cloud\", \"OOP\", \"DSA\"]\n",
    "df.filter(df.course.isin(courses)).show()"
   ]
  },
  {
   "cell_type": "code",
   "execution_count": 19,
   "id": "9e0c4608",
   "metadata": {},
   "outputs": [
    {
     "name": "stdout",
     "output_type": "stream",
     "text": [
      "+---+------+----------------+------+-------+-----+--------------------+\n",
      "|age|gender|            name|course|   roll|marks|               email|\n",
      "+---+------+----------------+------+-------+-----+--------------------+\n",
      "| 28|  Male|  Sheryll Towler|   DSA|  41487|   41|Claude Panos_Judi...|\n",
      "| 29|Female|       Kena Wild|   DSA| 102285|   35|Dustin Feagins_Ma...|\n",
      "| 28|Female|    Jc Andrepont|   DSA| 232060|   58|Billi Clore_Abram...|\n",
      "| 29|Female|    Paris Hutton|   DSA| 271472|   99|Sheryll Towler_Al...|\n",
      "| 28|Female|  Dustin Feagins|   DSA| 291984|   82|Abram Nagao_Kena ...|\n",
      "| 28|Female|Mickey Cortright|   DSA| 342003|   44|Mitzi Seldon_Jean...|\n",
      "| 29|Female|     Anna Santos|   DSA| 411479|   42|Kena Wild_Mitzi S...|\n",
      "| 28|Female|  Maybell Duguay|   DSA| 452141|   29|Leontine Phillips...|\n",
      "| 29|Female|    Paris Hutton|   DSA| 492159|   60|Nicole Harwood_Ma...|\n",
      "| 29|  Male|  Celeste Lollis|   DSA| 562065|   85|Jc Andrepont_Mela...|\n",
      "| 29|  Male|  Maybell Duguay|   DSA| 592061|   83|Eda Neathery_Jenn...|\n",
      "| 28|  Male|    Mitzi Seldon|   DSA| 622981|   45|Lawanda Wohlwend_...|\n",
      "| 28|Female|  Jenna Montague|   DSA| 691564|   26|Mitzi Seldon_Sebr...|\n",
      "| 28|Female|  Celeste Lollis|   DSA| 731879|   76|Hubert Oliveras_G...|\n",
      "| 28|  Male|  Sheryll Towler|   DSA| 831562|   59|Kena Wild_Gonzalo...|\n",
      "| 28|Female|  Sheryll Towler|   DSA| 871967|   64|Michelle Ruggiero...|\n",
      "| 28|  Male|  Margene Moores|   DSA| 892010|   93|Anna Santos_Naoma...|\n",
      "| 28|Female|  Somer Stoecker|   DSA| 901958|   64|Kizzy Brenner_Jc ...|\n",
      "| 28|Female|Lawanda Wohlwend|   DSA| 951686|   60|Loris Crossett_Ni...|\n",
      "| 28|  Male|  Jenna Montague|   DSA|1002103|   36|Melani Engberg_Hu...|\n",
      "+---+------+----------------+------+-------+-----+--------------------+\n",
      "only showing top 20 rows\n",
      "\n"
     ]
    }
   ],
   "source": [
    "df.filter(df.course.startswith(\"DS\")).show()\n"
   ]
  },
  {
   "cell_type": "code",
   "execution_count": 20,
   "id": "4af39d84",
   "metadata": {},
   "outputs": [
    {
     "name": "stdout",
     "output_type": "stream",
     "text": [
      "+---+------+--------------+------+-------+-----+--------------------+\n",
      "|age|gender|          name|course|   roll|marks|               email|\n",
      "+---+------+--------------+------+-------+-----+--------------------+\n",
      "| 28|Female|Latia Vanhoose|    DB| 122502|   27|Latia Vanhoose_Mi...|\n",
      "| 29|Female|Latia Vanhoose|   MVC| 132110|   55|Eda Neathery_Nico...|\n",
      "| 29|Female|Latia Vanhoose|    DB| 152159|   27|Claude Panos_Sant...|\n",
      "| 29|  Male|Latia Vanhoose| Cloud|1832268|   60|Marylee Capasso_S...|\n",
      "| 29|  Male|Latia Vanhoose|   OOP|2372748|   94|Latia Vanhoose_La...|\n",
      "| 29|Female|Latia Vanhoose|    PF|2861854|   42|Claude Panos_Nico...|\n",
      "| 29|  Male|Latia Vanhoose|   MVC|2992281|   90|Elenore Choy_Cord...|\n",
      "| 29|Female|Latia Vanhoose|   MVC|3091650|   30|Cordie Harnois_Se...|\n",
      "| 29|Female|Latia Vanhoose|   OOP|3841395|   26|Kizzy Brenner_Eda...|\n",
      "| 29|  Male|Latia Vanhoose| Cloud|4661276|   40|Jc Andrepont_Anni...|\n",
      "| 28|Female|Latia Vanhoose|   OOP|4792828|   72|Tamera Blakley_Mi...|\n",
      "| 28|Female|Latia Vanhoose|    PF|5222171|   73|Toshiko Hillyard_...|\n",
      "| 28|Female|Latia Vanhoose| Cloud|6701628|   33|Abram Nagao_Cheri...|\n",
      "| 29|Female|Latia Vanhoose|   MVC|6771882|   49|Alberta Freund_La...|\n",
      "| 28|Female|Latia Vanhoose|   MVC|7381991|   94|Eda Neathery_Mich...|\n",
      "| 29|  Male|Latia Vanhoose| Cloud|7721956|   45|Jalisa Swenson_An...|\n",
      "| 28|  Male|Latia Vanhoose|   OOP|7741757|   66|Loris Crossett_Na...|\n",
      "| 28|  Male|Latia Vanhoose|   DSA|7792270|   37|Eda Neathery_Donn...|\n",
      "| 28|  Male|Latia Vanhoose|   DSA|9442974|   29|Jc Andrepont_Cele...|\n",
      "| 28|Female|Latia Vanhoose| Cloud|9471888|   56|Naoma Fritts_Kena...|\n",
      "+---+------+--------------+------+-------+-----+--------------------+\n",
      "\n"
     ]
    }
   ],
   "source": [
    "df.filter(df.name.endswith(\"se\")).show()\n"
   ]
  },
  {
   "cell_type": "code",
   "execution_count": 21,
   "id": "3a78c126",
   "metadata": {},
   "outputs": [
    {
     "name": "stdout",
     "output_type": "stream",
     "text": [
      "+---+------+--------------+------+-------+-----+--------------------+\n",
      "|age|gender|          name|course|   roll|marks|               email|\n",
      "+---+------+--------------+------+-------+-----+--------------------+\n",
      "| 28|Female|Latia Vanhoose|    DB| 122502|   27|Latia Vanhoose_Mi...|\n",
      "| 29|Female|Latia Vanhoose|   MVC| 132110|   55|Eda Neathery_Nico...|\n",
      "| 29|Female|Latia Vanhoose|    DB| 152159|   27|Claude Panos_Sant...|\n",
      "| 29|  Male|Loris Crossett|   MVC| 161771|   36|Mitzi Seldon_Jenn...|\n",
      "| 29|Female|Loris Crossett|    PF| 201487|   96|Elenore Choy_Lati...|\n",
      "| 28|Female|Loris Crossett|    PF| 332739|   62|Michelle Ruggiero...|\n",
      "| 29|  Male|Loris Crossett|    PF| 911593|   46|Gonzalo Ferebee_M...|\n",
      "| 28|Female|Loris Crossett|   DSA|1662549|   86|Paris Hutton_Lati...|\n",
      "| 29|  Male|Latia Vanhoose| Cloud|1832268|   60|Marylee Capasso_S...|\n",
      "| 29|  Male|Latia Vanhoose|   OOP|2372748|   94|Latia Vanhoose_La...|\n",
      "| 28|Female|Loris Crossett|   OOP|2691881|   29|Maybell Duguay_Ni...|\n",
      "| 28|  Male|Loris Crossett|   OOP|2852490|   25|Loris Crossett_Do...|\n",
      "| 29|Female|Latia Vanhoose|    PF|2861854|   42|Claude Panos_Nico...|\n",
      "| 29|  Male|Latia Vanhoose|   MVC|2992281|   90|Elenore Choy_Cord...|\n",
      "| 29|Female|Latia Vanhoose|   MVC|3091650|   30|Cordie Harnois_Se...|\n",
      "| 28|Female|Loris Crossett|   OOP|3502780|   30|Jenna Montague_Co...|\n",
      "| 28|Female|Loris Crossett|    PF|3531684|   84|Dustin Feagins_Ta...|\n",
      "| 29|  Male|Loris Crossett|   OOP|3592529|   80|Annika Hoffman_To...|\n",
      "| 29|Female|Latia Vanhoose|   OOP|3841395|   26|Kizzy Brenner_Eda...|\n",
      "| 28|Female|Loris Crossett|    PF|3861248|   94|Dustin Feagins_Ch...|\n",
      "+---+------+--------------+------+-------+-----+--------------------+\n",
      "only showing top 20 rows\n",
      "\n"
     ]
    }
   ],
   "source": [
    "df.filter(df.name.contains(\"se\")).show()\n"
   ]
  },
  {
   "cell_type": "code",
   "execution_count": 22,
   "id": "ff6c1a89",
   "metadata": {},
   "outputs": [
    {
     "name": "stdout",
     "output_type": "stream",
     "text": [
      "+---+------+------------------+------+-------+-----+--------------------+\n",
      "|age|gender|              name|course|   roll|marks|               email|\n",
      "+---+------+------------------+------+-------+-----+--------------------+\n",
      "| 28|  Male|    Celeste Lollis|    PF|  21267|   45|Jeannetta Golden_...|\n",
      "| 28|  Male|    Celeste Lollis|   MVC|  81492|   64|Nicole Harwood_Cl...|\n",
      "| 28|Female|    Latia Vanhoose|    DB| 122502|   27|Latia Vanhoose_Mi...|\n",
      "| 29|Female|    Latia Vanhoose|   MVC| 132110|   55|Eda Neathery_Nico...|\n",
      "| 29|Female|    Latia Vanhoose|    DB| 152159|   27|Claude Panos_Sant...|\n",
      "| 29|  Male|    Loris Crossett|   MVC| 161771|   36|Mitzi Seldon_Jenn...|\n",
      "| 29|Female|    Loris Crossett|    PF| 201487|   96|Elenore Choy_Lati...|\n",
      "| 28|Female|    Dustin Feagins|   DSA| 291984|   82|Abram Nagao_Kena ...|\n",
      "| 28|Female|    Loris Crossett|    PF| 332739|   62|Michelle Ruggiero...|\n",
      "| 29|  Male|    Jalisa Swenson|    PF| 372873|   45|Ernest Rossbach_T...|\n",
      "| 28|Female|    Jalisa Swenson|   OOP| 431352|   25|Gonzalo Ferebee_J...|\n",
      "| 28|  Male|    Dustin Feagins|    PF| 461839|   51|Neda Briski_Eleno...|\n",
      "| 29|  Male|    Celeste Lollis|   DSA| 562065|   85|Jc Andrepont_Mela...|\n",
      "| 28|  Male|Priscila Tavernier|    PF| 642594|   27|Marylee Capasso_C...|\n",
      "| 28|Female|    Celeste Lollis|   DSA| 731879|   76|Hubert Oliveras_G...|\n",
      "| 29|  Male|    Loris Crossett|    PF| 911593|   46|Gonzalo Ferebee_M...|\n",
      "| 29|Female|    Dustin Feagins|   OOP|1161607|   37|Eda Neathery_Mary...|\n",
      "| 28|  Male|    Jalisa Swenson|    PF|1192555|   77|Marylee Capasso_C...|\n",
      "| 29|  Male|    Jalisa Swenson| Cloud|1261533|   70|Dustin Feagins_Ni...|\n",
      "| 29|  Male|    Jalisa Swenson|    PF|1332072|   88|Billi Clore_Kizzy...|\n",
      "+---+------+------------------+------+-------+-----+--------------------+\n",
      "only showing top 20 rows\n",
      "\n"
     ]
    }
   ],
   "source": [
    "df.filter(df.name.like('%s%e%')).show()\n"
   ]
  },
  {
   "cell_type": "code",
   "execution_count": 23,
   "id": "39015c09",
   "metadata": {},
   "outputs": [],
   "source": [
    "df2 = df.withColumn(\"total_marks\", lit(120))"
   ]
  },
  {
   "cell_type": "code",
   "execution_count": 24,
   "id": "f9e865f5",
   "metadata": {},
   "outputs": [],
   "source": [
    "df2 = df2.withColumn(\"average\", (col(\"marks\") / col (\"total_marks\"))*100 )\n"
   ]
  },
  {
   "cell_type": "code",
   "execution_count": 25,
   "id": "296c16b3",
   "metadata": {},
   "outputs": [],
   "source": [
    "df2 = df2.filter((df2.course == \"OOP\") & (df2.average > 80))\n"
   ]
  },
  {
   "cell_type": "code",
   "execution_count": 26,
   "id": "daa9d31a",
   "metadata": {},
   "outputs": [
    {
     "name": "stdout",
     "output_type": "stream",
     "text": [
      "+---+------+------------------+------+-------+-----+--------------------+-----------+-----------------+\n",
      "|age|gender|              name|course|   roll|marks|               email|total_marks|          average|\n",
      "+---+------+------------------+------+-------+-----+--------------------+-----------+-----------------+\n",
      "| 28|  Male|    Jenna Montague|   OOP|3331161|   98|Leontine Phillips...|        120|81.66666666666667|\n",
      "| 29|Female|Priscila Tavernier|   OOP|3902993|   99|Celeste Lollis_Bi...|        120|             82.5|\n",
      "| 28|Female|      Judie Chipps|   OOP|5451977|   99|Tamera Blakley_Mi...|        120|             82.5|\n",
      "| 29|  Male|    Margene Moores|   OOP|5621072|   97|Sheryll Towler_Ma...|        120|80.83333333333333|\n",
      "| 29|  Male|      Jc Andrepont|   OOP|8022618|   97|Cordie Harnois_Ja...|        120|80.83333333333333|\n",
      "| 28|  Male|    Loris Crossett|   OOP|8172914|   98|Paris Hutton_Pari...|        120|81.66666666666667|\n",
      "| 28|  Male|    Loris Crossett|   OOP|9692316|   99|Judie Chipps_Mich...|        120|             82.5|\n",
      "+---+------+------------------+------+-------+-----+--------------------+-----------+-----------------+\n",
      "\n"
     ]
    }
   ],
   "source": [
    "df2.show()"
   ]
  },
  {
   "cell_type": "code",
   "execution_count": 27,
   "id": "9f8443a0",
   "metadata": {},
   "outputs": [
    {
     "name": "stdout",
     "output_type": "stream",
     "text": [
      "+---+------+-----------------+------+-------+-----+--------------------+\n",
      "|age|gender|             name|course|   roll|marks|               email|\n",
      "+---+------+-----------------+------+-------+-----+--------------------+\n",
      "| 28|Female|   Celeste Lollis|   DSA| 731879|   76|Hubert Oliveras_G...|\n",
      "| 28|  Male|  Sebrina Maresca|    PF| 361316|   62|Nicole Harwood_La...|\n",
      "| 28|Female|   Tamera Blakley|    PF|1591554|   78|Sebrina Maresca_T...|\n",
      "| 28|  Male|     Elenore Choy|    PF| 422704|   66|Marylee Capasso_N...|\n",
      "| 29|Female|     Eda Neathery| Cloud|1011971|   91|Margene Moores_El...|\n",
      "| 29|  Male|     Judie Chipps|    DB|2112234|   94|Dustin Feagins_Ta...|\n",
      "| 28|Female|    Santa Kerfien| Cloud| 851620|   34|Melani Engberg_Sh...|\n",
      "| 29|  Male|     Cheri Kenney| Cloud|2491705|   64|Toshiko Hillyard_...|\n",
      "| 29|  Male|     Claude Panos|   DSA|1771605|   50|Claude Panos_Tame...|\n",
      "| 29|Female|      Niki Klimek|    PF| 211508|   23|Cordie Harnois_Ju...|\n",
      "| 29|Female|     Naoma Fritts|   MVC|1532260|   73|Elenore Choy_Judi...|\n",
      "| 29|  Male|      Abram Nagao|   MVC| 962235|   32|Jenna Montague_Go...|\n",
      "| 29|  Male|   Jalisa Swenson|    PF| 372873|   45|Ernest Rossbach_T...|\n",
      "| 28|  Male|   Taryn Brownlee|    PF|3491666|   76|Neda Briski_Prisc...|\n",
      "| 29|  Male| Mickey Cortright|   OOP|2361202|   59|Kizzy Brenner_Eda...|\n",
      "| 28|Female|   Alberta Freund|   OOP| 251805|   83|Annika Hoffman_Sh...|\n",
      "| 28|  Male| Toshiko Hillyard|    DB| 392218|   47|Leontine Phillips...|\n",
      "| 28|  Male|   Bonita Higuera| Cloud|1312294|   94|Eda Neathery_Pris...|\n",
      "| 29|Female|     Cheri Kenney| Cloud| 281408|   43|Annika Hoffman_Me...|\n",
      "| 29|Female|Michelle Ruggiero|    DB|1642509|   45|Hubert Oliveras_M...|\n",
      "+---+------+-----------------+------+-------+-----+--------------------+\n",
      "only showing top 20 rows\n",
      "\n"
     ]
    }
   ],
   "source": [
    "df.dropDuplicates([\"gender\",\"name\"]).show()\n"
   ]
  },
  {
   "cell_type": "code",
   "execution_count": 28,
   "id": "6b05d852",
   "metadata": {},
   "outputs": [],
   "source": [
    "df3 = df.filter((df.gender == 'Male') & (df.course == 'PF') & df.name.like(\"N%\"))"
   ]
  },
  {
   "cell_type": "code",
   "execution_count": 29,
   "id": "39a493c1",
   "metadata": {},
   "outputs": [
    {
     "name": "stdout",
     "output_type": "stream",
     "text": [
      "+---+------+------------+------+-------+-----+--------------------+\n",
      "|age|gender|        name|course|   roll|marks|               email|\n",
      "+---+------+------------+------+-------+-----+--------------------+\n",
      "| 29|  Male| Neda Briski|    PF| 141770|   42|Margene Moores_Mi...|\n",
      "| 29|  Male| Neda Briski|    PF| 842515|   68|Neda Briski_Huber...|\n",
      "| 29|  Male| Niki Klimek|    PF| 982443|   94|Santa Kerfien_Kiz...|\n",
      "| 29|  Male|Naoma Fritts|    PF|2141246|   91|Mitzi Seldon_Cord...|\n",
      "| 28|  Male| Niki Klimek|    PF|3381919|   97|Hubert Oliveras_L...|\n",
      "| 29|  Male| Niki Klimek|    PF|7852889|   48|Taryn Brownlee_El...|\n",
      "| 28|  Male| Neda Briski|    PF|9912790|   65|Hubert Oliveras_T...|\n",
      "+---+------+------------+------+-------+-----+--------------------+\n",
      "\n"
     ]
    }
   ],
   "source": [
    "df3.show()"
   ]
  },
  {
   "cell_type": "code",
   "execution_count": 30,
   "id": "7bba3eea",
   "metadata": {},
   "outputs": [
    {
     "name": "stdout",
     "output_type": "stream",
     "text": [
      "+---+------+------------+------+-------+-----+--------------------+\n",
      "|age|gender|        name|course|   roll|marks|               email|\n",
      "+---+------+------------+------+-------+-----+--------------------+\n",
      "| 28|  Male| Niki Klimek|    PF|3381919|   97|Hubert Oliveras_L...|\n",
      "| 28|  Male| Neda Briski|    PF|9912790|   65|Hubert Oliveras_T...|\n",
      "| 29|  Male| Neda Briski|    PF| 141770|   42|Margene Moores_Mi...|\n",
      "| 29|  Male| Niki Klimek|    PF| 982443|   94|Santa Kerfien_Kiz...|\n",
      "| 29|  Male|Naoma Fritts|    PF|2141246|   91|Mitzi Seldon_Cord...|\n",
      "+---+------+------------+------+-------+-----+--------------------+\n",
      "\n"
     ]
    }
   ],
   "source": [
    "df3.dropDuplicates([\"gender\",\"name\",'age']).show()\n"
   ]
  },
  {
   "cell_type": "code",
   "execution_count": 31,
   "id": "11646b20",
   "metadata": {},
   "outputs": [
    {
     "name": "stdout",
     "output_type": "stream",
     "text": [
      "+---+------+-----------------+------+-------+-----+--------------------+\n",
      "|age|gender|             name|course|   roll|marks|               email|\n",
      "+---+------+-----------------+------+-------+-----+--------------------+\n",
      "| 28|  Male|  Marylee Capasso|   DSA|2081560|   20|Sheryll Towler_Do...|\n",
      "| 28|Female|   Maybell Duguay| Cloud| 261439|   20|Nicole Harwood_Ju...|\n",
      "| 28|Female|     Jc Andrepont|    PF| 972733|   20|Eda Neathery_Eda ...|\n",
      "| 29|Female|   Tamera Blakley|   DSA|3911247|   20|Donna Yerby_Bonit...|\n",
      "| 29|  Male|   Jalisa Swenson|   OOP|4751515|   20|Annika Hoffman_Hu...|\n",
      "| 29|Female|  Gonzalo Ferebee|   DSA|5631172|   20|Jeannetta Golden_...|\n",
      "| 29|  Male|Michelle Ruggiero|    PF|6001585|   20|Paris Hutton_Marg...|\n",
      "| 29|Female|Michelle Ruggiero|    DB|9232210|   20|Donna Yerby_Latia...|\n",
      "| 29|  Male|     Elenore Choy|    DB|3652057|   20|Jc Andrepont_Gonz...|\n",
      "| 28|  Male|      Abram Nagao| Cloud|2652463|   21|Eda Neathery_Anni...|\n",
      "| 28|  Male|   Bonita Higuera| Cloud|7671835|   21|Taryn Brownlee_Se...|\n",
      "| 28|Female|  Sebrina Maresca|    PF|5742239|   21|Bonita Higuera_Se...|\n",
      "| 28|  Male|    Kizzy Brenner| Cloud|4622328|   21|Leontine Phillips...|\n",
      "| 28|  Male|      Billi Clore|    DB|9151306|   21|Latia Vanhoose_Er...|\n",
      "| 29|  Male|  Sebrina Maresca| Cloud|5042394|   21|Donna Yerby_Miche...|\n",
      "| 29|Female|  Gonzalo Ferebee|   OOP|2262603|   21|Bonita Higuera_Ch...|\n",
      "| 29|  Male|   Tamera Blakley|   OOP|7341268|   21|Anna Santos_Naoma...|\n",
      "| 29|Female|   Alberta Freund|   OOP|4501424|   21|Toshiko Hillyard_...|\n",
      "| 29|Female|   Nicole Harwood|    PF|8121198|   21|Bonita Higuera_Pr...|\n",
      "| 28|Female|     Cheri Kenney| Cloud|2281771|   22|Tamera Blakley_Ab...|\n",
      "+---+------+-----------------+------+-------+-----+--------------------+\n",
      "only showing top 20 rows\n",
      "\n"
     ]
    }
   ],
   "source": [
    "df.sort(df.marks, df.age).show()\n"
   ]
  },
  {
   "cell_type": "code",
   "execution_count": 32,
   "id": "c134dbd5",
   "metadata": {},
   "outputs": [
    {
     "name": "stdout",
     "output_type": "stream",
     "text": [
      "+---+------+-----------------+------+-------+-----+--------------------+\n",
      "|age|gender|             name|course|   roll|marks|               email|\n",
      "+---+------+-----------------+------+-------+-----+--------------------+\n",
      "| 28|  Male|  Marylee Capasso|   DSA|2081560|   20|Sheryll Towler_Do...|\n",
      "| 28|Female|   Maybell Duguay| Cloud| 261439|   20|Nicole Harwood_Ju...|\n",
      "| 28|Female|     Jc Andrepont|    PF| 972733|   20|Eda Neathery_Eda ...|\n",
      "| 29|Female|   Tamera Blakley|   DSA|3911247|   20|Donna Yerby_Bonit...|\n",
      "| 29|  Male|   Jalisa Swenson|   OOP|4751515|   20|Annika Hoffman_Hu...|\n",
      "| 29|Female|  Gonzalo Ferebee|   DSA|5631172|   20|Jeannetta Golden_...|\n",
      "| 29|  Male|Michelle Ruggiero|    PF|6001585|   20|Paris Hutton_Marg...|\n",
      "| 29|Female|Michelle Ruggiero|    DB|9232210|   20|Donna Yerby_Latia...|\n",
      "| 29|  Male|     Elenore Choy|    DB|3652057|   20|Jc Andrepont_Gonz...|\n",
      "| 28|  Male|      Abram Nagao| Cloud|2652463|   21|Eda Neathery_Anni...|\n",
      "| 28|  Male|   Bonita Higuera| Cloud|7671835|   21|Taryn Brownlee_Se...|\n",
      "| 28|Female|  Sebrina Maresca|    PF|5742239|   21|Bonita Higuera_Se...|\n",
      "| 28|  Male|    Kizzy Brenner| Cloud|4622328|   21|Leontine Phillips...|\n",
      "| 28|  Male|      Billi Clore|    DB|9151306|   21|Latia Vanhoose_Er...|\n",
      "| 29|  Male|  Sebrina Maresca| Cloud|5042394|   21|Donna Yerby_Miche...|\n",
      "| 29|Female|  Gonzalo Ferebee|   OOP|2262603|   21|Bonita Higuera_Ch...|\n",
      "| 29|  Male|   Tamera Blakley|   OOP|7341268|   21|Anna Santos_Naoma...|\n",
      "| 29|Female|   Alberta Freund|   OOP|4501424|   21|Toshiko Hillyard_...|\n",
      "| 29|Female|   Nicole Harwood|    PF|8121198|   21|Bonita Higuera_Pr...|\n",
      "| 28|Female|     Cheri Kenney| Cloud|2281771|   22|Tamera Blakley_Ab...|\n",
      "+---+------+-----------------+------+-------+-----+--------------------+\n",
      "only showing top 20 rows\n",
      "\n"
     ]
    }
   ],
   "source": [
    "df.orderBy(df.marks, df.age).show()\n"
   ]
  },
  {
   "cell_type": "code",
   "execution_count": 33,
   "id": "3f92d9bf",
   "metadata": {},
   "outputs": [
    {
     "name": "stdout",
     "output_type": "stream",
     "text": [
      "+---+------+-----------------+------+-------+-----+--------------------+\n",
      "|age|gender|             name|course|   roll|marks|               email|\n",
      "+---+------+-----------------+------+-------+-----+--------------------+\n",
      "| 29|Female|Michelle Ruggiero|    DB|9232210|   20|Donna Yerby_Latia...|\n",
      "| 29|  Male|     Elenore Choy|    DB|3652057|   20|Jc Andrepont_Gonz...|\n",
      "| 29|  Male|   Jalisa Swenson|   OOP|4751515|   20|Annika Hoffman_Hu...|\n",
      "| 29|Female|  Gonzalo Ferebee|   DSA|5631172|   20|Jeannetta Golden_...|\n",
      "| 29|Female|   Tamera Blakley|   DSA|3911247|   20|Donna Yerby_Bonit...|\n",
      "| 29|  Male|Michelle Ruggiero|    PF|6001585|   20|Paris Hutton_Marg...|\n",
      "| 28|Female|   Maybell Duguay| Cloud| 261439|   20|Nicole Harwood_Ju...|\n",
      "| 28|  Male|  Marylee Capasso|   DSA|2081560|   20|Sheryll Towler_Do...|\n",
      "| 28|Female|     Jc Andrepont|    PF| 972733|   20|Eda Neathery_Eda ...|\n",
      "| 29|  Male|  Sebrina Maresca| Cloud|5042394|   21|Donna Yerby_Miche...|\n",
      "| 29|Female|   Nicole Harwood|    PF|8121198|   21|Bonita Higuera_Pr...|\n",
      "| 29|  Male|   Tamera Blakley|   OOP|7341268|   21|Anna Santos_Naoma...|\n",
      "| 29|Female|   Alberta Freund|   OOP|4501424|   21|Toshiko Hillyard_...|\n",
      "| 29|Female|  Gonzalo Ferebee|   OOP|2262603|   21|Bonita Higuera_Ch...|\n",
      "| 28|  Male|    Kizzy Brenner| Cloud|4622328|   21|Leontine Phillips...|\n",
      "| 28|  Male|   Bonita Higuera| Cloud|7671835|   21|Taryn Brownlee_Se...|\n",
      "| 28|  Male|      Abram Nagao| Cloud|2652463|   21|Eda Neathery_Anni...|\n",
      "| 28|Female|  Sebrina Maresca|    PF|5742239|   21|Bonita Higuera_Se...|\n",
      "| 28|  Male|      Billi Clore|    DB|9151306|   21|Latia Vanhoose_Er...|\n",
      "| 29|Female|   Maybell Duguay|   MVC|1102536|   22|Somer Stoecker_Ma...|\n",
      "+---+------+-----------------+------+-------+-----+--------------------+\n",
      "only showing top 20 rows\n",
      "\n"
     ]
    }
   ],
   "source": [
    "df.sort(df.marks.asc(), df.age.desc()).show()\n"
   ]
  },
  {
   "cell_type": "markdown",
   "id": "8775c1dd",
   "metadata": {},
   "source": [
    "### Note for groupby you need to perform some sort of agg for .show() to work"
   ]
  },
  {
   "cell_type": "code",
   "execution_count": 34,
   "id": "54c2727d",
   "metadata": {},
   "outputs": [
    {
     "name": "stdout",
     "output_type": "stream",
     "text": [
      "+------+----------+\n",
      "|gender|sum(marks)|\n",
      "+------+----------+\n",
      "|Female|     29636|\n",
      "|  Male|     30461|\n",
      "+------+----------+\n",
      "\n"
     ]
    }
   ],
   "source": [
    "df.groupBy(\"gender\").sum(\"marks\").show()\n"
   ]
  },
  {
   "cell_type": "code",
   "execution_count": 35,
   "id": "49849b19",
   "metadata": {},
   "outputs": [
    {
     "name": "stdout",
     "output_type": "stream",
     "text": [
      "+------+-----+\n",
      "|gender|count|\n",
      "+------+-----+\n",
      "|Female|  501|\n",
      "|  Male|  499|\n",
      "+------+-----+\n",
      "\n"
     ]
    }
   ],
   "source": [
    "df.groupBy(\"gender\").count().show()\n"
   ]
  },
  {
   "cell_type": "code",
   "execution_count": 36,
   "id": "9d684ddb",
   "metadata": {},
   "outputs": [
    {
     "name": "stdout",
     "output_type": "stream",
     "text": [
      "+------+----------+\n",
      "|course|sum(marks)|\n",
      "+------+----------+\n",
      "|    PF|      9933|\n",
      "|    DB|      9270|\n",
      "|   MVC|      9585|\n",
      "|   DSA|     10950|\n",
      "| Cloud|     11443|\n",
      "|   OOP|      8916|\n",
      "+------+----------+\n",
      "\n"
     ]
    }
   ],
   "source": [
    "df.groupBy(\"course\").sum(\"marks\").show()"
   ]
  },
  {
   "cell_type": "code",
   "execution_count": 37,
   "id": "91b56b8c",
   "metadata": {},
   "outputs": [
    {
     "name": "stdout",
     "output_type": "stream",
     "text": [
      "+------+----------+\n",
      "|gender|max(marks)|\n",
      "+------+----------+\n",
      "|Female|        99|\n",
      "|  Male|        99|\n",
      "+------+----------+\n",
      "\n"
     ]
    }
   ],
   "source": [
    "df.groupBy(\"gender\").max(\"marks\").show()\n"
   ]
  },
  {
   "cell_type": "code",
   "execution_count": 38,
   "id": "dd29b584",
   "metadata": {},
   "outputs": [
    {
     "name": "stdout",
     "output_type": "stream",
     "text": [
      "+---+------------------+\n",
      "|age|        avg(marks)|\n",
      "+---+------------------+\n",
      "| 28|60.487854251012145|\n",
      "| 29|59.715415019762844|\n",
      "+---+------------------+\n",
      "\n"
     ]
    }
   ],
   "source": [
    "df.groupBy(\"age\").avg(\"marks\").show()\n"
   ]
  },
  {
   "cell_type": "code",
   "execution_count": null,
   "id": "cf84061d",
   "metadata": {},
   "outputs": [],
   "source": []
  },
  {
   "cell_type": "code",
   "execution_count": 39,
   "id": "b199e174",
   "metadata": {},
   "outputs": [
    {
     "name": "stdout",
     "output_type": "stream",
     "text": [
      "+------+------+-----------------+-----------+---------+----------+------------------+\n",
      "|course|gender|total_enrollments|total_marks|min_makrs|max(marks)|        avg(marks)|\n",
      "+------+------+-----------------+-----------+---------+----------+------------------+\n",
      "|   OOP|  Male|               70|       4234|       20|        99| 60.48571428571429|\n",
      "|    DB|  Male|               82|       5073|       20|        98| 61.86585365853659|\n",
      "| Cloud|Female|              106|       6316|       20|        99| 59.58490566037736|\n",
      "|   MVC|  Male|               86|       5241|       22|        99| 60.94186046511628|\n",
      "|   DSA|Female|               98|       6124|       20|        99| 62.48979591836735|\n",
      "|    PF|  Male|               97|       5960|       20|        99| 61.44329896907217|\n",
      "|   MVC|Female|               71|       4344|       22|        99|61.183098591549296|\n",
      "| Cloud|  Male|               86|       5127|       21|        97|59.616279069767444|\n",
      "|    PF|Female|               69|       3973|       20|        99| 57.57971014492754|\n",
      "|   DSA|  Male|               78|       4826|       20|        99| 61.87179487179487|\n",
      "|    DB|Female|               75|       4197|       20|        96|             55.96|\n",
      "|   OOP|Female|               82|       4682|       21|        99| 57.09756097560975|\n",
      "+------+------+-----------------+-----------+---------+----------+------------------+\n",
      "\n"
     ]
    }
   ],
   "source": [
    "df.groupBy(\"course\",\"gender\").agg(count(\"*\").alias(\"total_enrollments\"), sum(\"marks\").alias(\"total_marks\"), min(\"marks\").alias(\"min_makrs\"), max(\"marks\"), avg(\"marks\")).show()\n"
   ]
  },
  {
   "cell_type": "code",
   "execution_count": 40,
   "id": "b20d857b",
   "metadata": {},
   "outputs": [
    {
     "name": "stdout",
     "output_type": "stream",
     "text": [
      "+------+------+-----------------+\n",
      "|course|gender|total_enrollments|\n",
      "+------+------+-----------------+\n",
      "|   MVC|  Male|               86|\n",
      "|    PF|  Male|               97|\n",
      "| Cloud|  Male|               86|\n",
      "+------+------+-----------------+\n",
      "\n"
     ]
    }
   ],
   "source": [
    "# if you want to filter on newly created column in the same query you have to use col ('column name'), df.column_name wont work since it is not available in the context, with col it is available in the context\n",
    "df.filter(df.gender == \"Male\").groupBy(\"course\",\"gender\").agg(count('*').alias(\"total_enrollments\")).filter(col(\"total_enrollments\") > 85).show()"
   ]
  },
  {
   "cell_type": "code",
   "execution_count": 41,
   "id": "5c573ccc",
   "metadata": {},
   "outputs": [
    {
     "name": "stdout",
     "output_type": "stream",
     "text": [
      "+------+------+-----------+\n",
      "|course|gender|total_marks|\n",
      "+------+------+-----------+\n",
      "|   OOP|  Male|       4234|\n",
      "|    DB|  Male|       5073|\n",
      "| Cloud|Female|       6316|\n",
      "|   MVC|  Male|       5241|\n",
      "|   DSA|Female|       6124|\n",
      "|    PF|  Male|       5960|\n",
      "|   MVC|Female|       4344|\n",
      "| Cloud|  Male|       5127|\n",
      "|    PF|Female|       3973|\n",
      "|   DSA|  Male|       4826|\n",
      "|    DB|Female|       4197|\n",
      "|   OOP|Female|       4682|\n",
      "+------+------+-----------+\n",
      "\n"
     ]
    }
   ],
   "source": [
    "df.groupBy(\"course\", \"gender\").agg(sum(\"marks\").alias(\"total_marks\")).show()\n"
   ]
  },
  {
   "cell_type": "code",
   "execution_count": 42,
   "id": "b475fa2a",
   "metadata": {},
   "outputs": [
    {
     "name": "stdout",
     "output_type": "stream",
     "text": [
      "+------+---+----------+----------+------------------+\n",
      "|course|age|min(marks)|max(marks)|        avg(marks)|\n",
      "+------+---+----------+----------+------------------+\n",
      "|   MVC| 28|        23|        99| 60.44444444444444|\n",
      "|   MVC| 29|        22|        99| 61.56470588235294|\n",
      "| Cloud| 28|        20|        99|             58.08|\n",
      "|    PF| 29|        20|        99|56.275862068965516|\n",
      "|    PF| 28|        20|        98| 63.75949367088607|\n",
      "|   OOP| 29|        20|        99|59.729729729729726|\n",
      "|   DSA| 28|        20|        99|  64.6867469879518|\n",
      "| Cloud| 29|        21|        98|             61.25|\n",
      "|    DB| 28|        21|        98| 58.76829268292683|\n",
      "|   DSA| 29|        20|        99| 60.01075268817204|\n",
      "|   OOP| 28|        23|        99| 57.64102564102564|\n",
      "|    DB| 29|        20|        98|59.346666666666664|\n",
      "+------+---+----------+----------+------------------+\n",
      "\n"
     ]
    }
   ],
   "source": [
    "df.groupBy(\"course\", \"age\").agg(min(\"marks\"), max(\"marks\"), avg(\"marks\")).show()\n"
   ]
  },
  {
   "cell_type": "code",
   "execution_count": 43,
   "id": "ce14bb33",
   "metadata": {},
   "outputs": [
    {
     "name": "stdout",
     "output_type": "stream",
     "text": [
      "Found 16 items\n",
      "drwx------   - itv001290 supergroup          0 2023-06-24 23:58 .Trash\n",
      "drwxr-xr-x   - itv001290 supergroup          0 2023-06-26 18:51 .sparkStaging\n",
      "-rw-r--r--   3 itv001290 supergroup   34788380 2023-06-25 00:03 Electric_Vehicle_Population_Data.csv\n",
      "-rw-r--r--   3 itv001290 supergroup        333 2021-10-05 00:10 OfficeData.csv\n",
      "-rw-r--r--   3 itv001290 supergroup    1444890 2021-10-03 15:38 SalaryData.txt\n",
      "-rw-r--r--   3 itv001290 supergroup      75701 2021-10-04 16:45 StudentData.csv\n",
      "-rw-r--r--   3 itv001290 supergroup        304 2021-10-05 00:05 WordData.txt\n",
      "-rw-r--r--   3 itv001290 supergroup        993 2022-01-29 17:02 data.json\n",
      "-rw-r--r--   3 itv001290 supergroup   45580638 2023-06-25 12:16 ecommerce.csv\n",
      "-rw-r--r--   3 itv001290 supergroup        344 2021-10-03 22:26 movie_ratings.csv\n",
      "-rw-r--r--   3 itv001290 supergroup   34788380 2023-06-23 22:03 pyspark\n",
      "-rw-r--r--   3 itv001290 supergroup      27782 2023-04-20 12:04 sample_interview.csv\n",
      "-rw-r--r--   3 itv001290 supergroup       2213 2021-10-03 21:53 sample_words.txt\n",
      "-rw-r--r--   3 itv001290 supergroup       1057 2021-10-11 21:16 shifts.txt\n",
      "-rw-r--r--   3 itv001290 supergroup         72 2023-04-20 12:04 tesla_assesment.ipynb\n",
      "drwxr-xr-x   - itv001290 supergroup          0 2021-10-03 14:47 warehouse\n"
     ]
    }
   ],
   "source": [
    "!hdfs dfs -ls"
   ]
  },
  {
   "cell_type": "code",
   "execution_count": 44,
   "id": "2acb9a4a",
   "metadata": {},
   "outputs": [],
   "source": [
    "# show file on hdfs"
   ]
  },
  {
   "cell_type": "code",
   "execution_count": 45,
   "id": "252e4691",
   "metadata": {},
   "outputs": [
    {
     "name": "stdout",
     "output_type": "stream",
     "text": [
      "Found 16 items\n",
      "drwx------   - itv001290 supergroup          0 2023-06-24 23:58 .Trash\n",
      "drwxr-xr-x   - itv001290 supergroup          0 2023-06-26 18:51 .sparkStaging\n",
      "-rw-r--r--   3 itv001290 supergroup   34788380 2023-06-25 00:03 Electric_Vehicle_Population_Data.csv\n",
      "-rw-r--r--   3 itv001290 supergroup        333 2021-10-05 00:10 OfficeData.csv\n",
      "-rw-r--r--   3 itv001290 supergroup    1444890 2021-10-03 15:38 SalaryData.txt\n",
      "-rw-r--r--   3 itv001290 supergroup      75701 2021-10-04 16:45 StudentData.csv\n",
      "-rw-r--r--   3 itv001290 supergroup        304 2021-10-05 00:05 WordData.txt\n",
      "-rw-r--r--   3 itv001290 supergroup        993 2022-01-29 17:02 data.json\n",
      "-rw-r--r--   3 itv001290 supergroup   45580638 2023-06-25 12:16 ecommerce.csv\n",
      "-rw-r--r--   3 itv001290 supergroup        344 2021-10-03 22:26 movie_ratings.csv\n",
      "-rw-r--r--   3 itv001290 supergroup   34788380 2023-06-23 22:03 pyspark\n",
      "-rw-r--r--   3 itv001290 supergroup      27782 2023-04-20 12:04 sample_interview.csv\n",
      "-rw-r--r--   3 itv001290 supergroup       2213 2021-10-03 21:53 sample_words.txt\n",
      "-rw-r--r--   3 itv001290 supergroup       1057 2021-10-11 21:16 shifts.txt\n",
      "-rw-r--r--   3 itv001290 supergroup         72 2023-04-20 12:04 tesla_assesment.ipynb\n",
      "drwxr-xr-x   - itv001290 supergroup          0 2021-10-03 14:47 warehouse\n"
     ]
    }
   ],
   "source": [
    "!hdfs dfs -ls"
   ]
  },
  {
   "cell_type": "code",
   "execution_count": 46,
   "id": "fae0aa1a",
   "metadata": {},
   "outputs": [],
   "source": [
    "# copy file from local to hdfs"
   ]
  },
  {
   "cell_type": "code",
   "execution_count": 47,
   "id": "1ffe48e6",
   "metadata": {},
   "outputs": [
    {
     "name": "stdout",
     "output_type": "stream",
     "text": [
      "copyFromLocal: `/user/itv001290/WordData.txt': File exists\n"
     ]
    }
   ],
   "source": [
    "!hdfs dfs -copyFromLocal /home/itv001290/pyspark/SparkDF/WordData.txt /user/itv001290\n"
   ]
  },
  {
   "cell_type": "code",
   "execution_count": 48,
   "id": "1ebf294e",
   "metadata": {},
   "outputs": [
    {
     "name": "stdout",
     "output_type": "stream",
     "text": [
      "+------+\n",
      "| value|\n",
      "+------+\n",
      "| Apple|\n",
      "|   Mic|\n",
      "|   Mic|\n",
      "| Apple|\n",
      "|Laptop|\n",
      "| Apple|\n",
      "|   Mic|\n",
      "|   Mic|\n",
      "| Apple|\n",
      "|Laptop|\n",
      "| Chair|\n",
      "| Chair|\n",
      "| Chair|\n",
      "|   Bag|\n",
      "|Mobile|\n",
      "|  Book|\n",
      "| Chair|\n",
      "| Chair|\n",
      "| Chair|\n",
      "|   Bag|\n",
      "+------+\n",
      "only showing top 20 rows\n",
      "\n",
      "+------+-----+\n",
      "| value|count|\n",
      "+------+-----+\n",
      "|   Mic|   10|\n",
      "| Chair|   15|\n",
      "|  Book|    5|\n",
      "|Laptop|    5|\n",
      "|   Bag|    5|\n",
      "|Mobile|    5|\n",
      "| Apple|   10|\n",
      "+------+-----+\n",
      "\n"
     ]
    }
   ],
   "source": [
    "df = spark.read.options().text('/user/itv001290/WordData.txt')\n",
    "df.show()\n",
    "\n",
    "# COMMAND ----------\n",
    "\n",
    "df.groupBy('value').count().show()"
   ]
  },
  {
   "cell_type": "code",
   "execution_count": 49,
   "id": "a3416b16",
   "metadata": {},
   "outputs": [
    {
     "name": "stdout",
     "output_type": "stream",
     "text": [
      "+------+---------+\n",
      "| value|wordcount|\n",
      "+------+---------+\n",
      "|   Mic|       10|\n",
      "| Chair|       15|\n",
      "|  Book|        5|\n",
      "|Laptop|        5|\n",
      "|   Bag|        5|\n",
      "|Mobile|        5|\n",
      "| Apple|       10|\n",
      "+------+---------+\n",
      "\n"
     ]
    }
   ],
   "source": [
    "df.groupby('value').agg(count('*').alias(\"wordcount\")).show()"
   ]
  },
  {
   "cell_type": "markdown",
   "id": "5dabd5df",
   "metadata": {},
   "source": [
    "## UDF"
   ]
  },
  {
   "cell_type": "code",
   "execution_count": 50,
   "id": "d797f16c",
   "metadata": {},
   "outputs": [
    {
     "name": "stdout",
     "output_type": "stream",
     "text": [
      "copyFromLocal: `/user/itv001290/OfficeData.csv': File exists\n"
     ]
    }
   ],
   "source": [
    "!hdfs dfs -copyFromLocal /home/itv001290/pyspark/SparkDF/OfficeData.csv /user/itv001290\n"
   ]
  },
  {
   "cell_type": "code",
   "execution_count": 51,
   "id": "686784aa",
   "metadata": {},
   "outputs": [
    {
     "name": "stdout",
     "output_type": "stream",
     "text": [
      "+-------------+----------+-----+------+---+-----+\n",
      "|employee_name|department|state|salary|age|bonus|\n",
      "+-------------+----------+-----+------+---+-----+\n",
      "|        James|     Sales|   NY| 90000| 34|10000|\n",
      "|      Michael|     Sales|   NY| 86000| 56|20000|\n",
      "|       Robert|     Sales|   CA| 81000| 30|23000|\n",
      "|        Maria|   Finance|   CA| 90000| 24|23000|\n",
      "|        Raman|   Finance|   CA| 99000| 40|24000|\n",
      "|        Scott|   Finance|   NY| 83000| 36|19000|\n",
      "|          Jen|   Finance|   NY| 79000| 53|15000|\n",
      "|         Jeff| Marketing|   CA| 80000| 25|18000|\n",
      "|        Kumar| Marketing|   NY| 91000| 50|21000|\n",
      "+-------------+----------+-----+------+---+-----+\n",
      "\n",
      "+-------------+----------+-----+------+---+-----+------------------+\n",
      "|employee_name|department|state|salary|age|bonus|total_salary+bonus|\n",
      "+-------------+----------+-----+------+---+-----+------------------+\n",
      "|        James|     Sales|   NY| 90000| 34|10000|            100000|\n",
      "|      Michael|     Sales|   NY| 86000| 56|20000|            106000|\n",
      "|       Robert|     Sales|   CA| 81000| 30|23000|            104000|\n",
      "|        Maria|   Finance|   CA| 90000| 24|23000|            113000|\n",
      "|        Raman|   Finance|   CA| 99000| 40|24000|            123000|\n",
      "|        Scott|   Finance|   NY| 83000| 36|19000|            102000|\n",
      "|          Jen|   Finance|   NY| 79000| 53|15000|             94000|\n",
      "|         Jeff| Marketing|   CA| 80000| 25|18000|             98000|\n",
      "|        Kumar| Marketing|   NY| 91000| 50|21000|            112000|\n",
      "+-------------+----------+-----+------+---+-----+------------------+\n",
      "\n"
     ]
    }
   ],
   "source": [
    "df = spark.read.options(header='True', inferSchema='True').csv('/user/itv001290/OfficeData.csv')\n",
    "df.show()\n",
    "\n",
    "# COMMAND ----------\n",
    "\n",
    "def get_total_salary(salary,bonus):\n",
    "  return salary + bonus\n",
    "\n",
    "totalSalaryUDF = udf(lambda x,y: get_total_salary(x,y), IntegerType())\n",
    "\n",
    "df.withColumn(\"total_salary+bonus\", totalSalaryUDF(df.salary,df.bonus)).show()\n"
   ]
  },
  {
   "cell_type": "code",
   "execution_count": 52,
   "id": "ba9b02a9",
   "metadata": {},
   "outputs": [],
   "source": [
    "from pyspark.sql.types import DoubleType\n"
   ]
  },
  {
   "cell_type": "code",
   "execution_count": 53,
   "id": "6502f486",
   "metadata": {},
   "outputs": [
    {
     "name": "stdout",
     "output_type": "stream",
     "text": [
      "+-------------+----------+-----+------+---+-----+---------+\n",
      "|employee_name|department|state|salary|age|bonus|increment|\n",
      "+-------------+----------+-----+------+---+-----+---------+\n",
      "|        James|     Sales|   NY| 90000| 34|10000|   9500.0|\n",
      "|      Michael|     Sales|   NY| 86000| 56|20000|   9600.0|\n",
      "|       Robert|     Sales|   CA| 81000| 30|23000|  10410.0|\n",
      "|        Maria|   Finance|   CA| 90000| 24|23000|  11490.0|\n",
      "|        Raman|   Finance|   CA| 99000| 40|24000|  12600.0|\n",
      "|        Scott|   Finance|   NY| 83000| 36|19000|   9250.0|\n",
      "|          Jen|   Finance|   NY| 79000| 53|15000|   8650.0|\n",
      "|         Jeff| Marketing|   CA| 80000| 25|18000|  10140.0|\n",
      "|        Kumar| Marketing|   NY| 91000| 50|21000|  10150.0|\n",
      "+-------------+----------+-----+------+---+-----+---------+\n",
      "\n"
     ]
    }
   ],
   "source": [
    "def get_incr(state, salary, bonus):\n",
    "  sum = 0\n",
    "  if state == \"NY\":\n",
    "    sum = salary * 0.10\n",
    "    sum += bonus * 0.05\n",
    "  elif state == \"CA\":\n",
    "    sum = salary * 0.12\n",
    "    sum += bonus * 0.03\n",
    "  return sum\n",
    "\n",
    "incrUDF = udf(lambda x,y,z: get_incr(x,y,z), DoubleType())\n",
    "\n",
    "df.withColumn(\"increment\", incrUDF(df.state, df.salary, df.bonus)).show()"
   ]
  },
  {
   "cell_type": "markdown",
   "id": "2e0987d9",
   "metadata": {},
   "source": [
    "# Cache stores all the previous transformations and when action is called on data frame it does not perform those transformations again, it just returns that. "
   ]
  },
  {
   "cell_type": "code",
   "execution_count": 54,
   "id": "8d56a3d1",
   "metadata": {},
   "outputs": [
    {
     "name": "stdout",
     "output_type": "stream",
     "text": [
      "+------+------+---+-----+-----+\n",
      "|course|gender|age|count|dummy|\n",
      "+------+------+---+-----+-----+\n",
      "| Cloud|Female| 29|   49| 2900|\n",
      "|   DSA|Female| 28|   47| 2800|\n",
      "|    PF|Female| 29|   34| 2900|\n",
      "|   OOP|Female| 29|   39| 2900|\n",
      "|   DSA|Female| 29|   51| 2900|\n",
      "|    PF|Female| 28|   35| 2800|\n",
      "|   MVC|Female| 28|   34| 2800|\n",
      "|    DB|  Male| 28|   42| 2800|\n",
      "|   OOP|  Male| 29|   35| 2900|\n",
      "|   MVC|  Male| 29|   48| 2900|\n",
      "|   MVC|Female| 29|   37| 2900|\n",
      "|    DB|Female| 29|   35| 2900|\n",
      "|   OOP|Female| 28|   43| 2800|\n",
      "| Cloud|Female| 28|   57| 2800|\n",
      "| Cloud|  Male| 29|   43| 2900|\n",
      "|    PF|  Male| 28|   44| 2800|\n",
      "|   DSA|  Male| 28|   36| 2800|\n",
      "|    DB|Female| 28|   40| 2800|\n",
      "|    DB|  Male| 29|   40| 2900|\n",
      "|    PF|  Male| 29|   53| 2900|\n",
      "+------+------+---+-----+-----+\n",
      "only showing top 20 rows\n",
      "\n",
      "+------+------+---+-----+-----+\n",
      "|course|gender|age|count|dummy|\n",
      "+------+------+---+-----+-----+\n",
      "| Cloud|Female| 29|   49| 2900|\n",
      "|   DSA|Female| 28|   47| 2800|\n",
      "|    PF|Female| 29|   34| 2900|\n",
      "|   OOP|Female| 29|   39| 2900|\n",
      "|   DSA|Female| 29|   51| 2900|\n",
      "|    PF|Female| 28|   35| 2800|\n",
      "|   MVC|Female| 28|   34| 2800|\n",
      "|    DB|  Male| 28|   42| 2800|\n",
      "|   OOP|  Male| 29|   35| 2900|\n",
      "|   MVC|  Male| 29|   48| 2900|\n",
      "|   MVC|Female| 29|   37| 2900|\n",
      "|    DB|Female| 29|   35| 2900|\n",
      "|   OOP|Female| 28|   43| 2800|\n",
      "| Cloud|Female| 28|   57| 2800|\n",
      "| Cloud|  Male| 29|   43| 2900|\n",
      "|    PF|  Male| 28|   44| 2800|\n",
      "|   DSA|  Male| 28|   36| 2800|\n",
      "|    DB|Female| 28|   40| 2800|\n",
      "|    DB|  Male| 29|   40| 2900|\n",
      "|    PF|  Male| 29|   53| 2900|\n",
      "+------+------+---+-----+-----+\n",
      "only showing top 20 rows\n",
      "\n"
     ]
    }
   ],
   "source": [
    "df = spark.read.options(header='True', inferSchema='True').csv('/user/itv001290/StudentData.csv')\n",
    "# df.show()\n",
    "\n",
    "# COMMAND ----------\n",
    "\n",
    "df = df.groupBy(\"course\",\"gender\",\"age\").count()\n",
    "\n",
    "# COMMAND ----------\n",
    "\n",
    "df = df.withColumn(\"dummy\", col(\"age\") * 100)\n",
    "\n",
    "# COMMAND ----------\n",
    "\n",
    "df.show()\n",
    "\n",
    "# COMMAND ----------\n",
    "\n",
    "df.cache()\n",
    "\n",
    "# COMMAND ----------\n",
    "\n",
    "df.show()"
   ]
  },
  {
   "cell_type": "code",
   "execution_count": 55,
   "id": "5f40c2d5",
   "metadata": {},
   "outputs": [
    {
     "data": {
      "text/plain": [
       "[Row(course='DB', gender='Male', age=28, count=42, dummy=2800),\n",
       " Row(course='OOP', gender='Male', age=29, count=35, dummy=2900),\n",
       " Row(course='MVC', gender='Male', age=29, count=48, dummy=2900),\n",
       " Row(course='Cloud', gender='Male', age=29, count=43, dummy=2900),\n",
       " Row(course='PF', gender='Male', age=28, count=44, dummy=2800),\n",
       " Row(course='DSA', gender='Male', age=28, count=36, dummy=2800),\n",
       " Row(course='DB', gender='Male', age=29, count=40, dummy=2900),\n",
       " Row(course='PF', gender='Male', age=29, count=53, dummy=2900),\n",
       " Row(course='DSA', gender='Male', age=29, count=42, dummy=2900),\n",
       " Row(course='OOP', gender='Male', age=28, count=35, dummy=2800),\n",
       " Row(course='Cloud', gender='Male', age=28, count=43, dummy=2800),\n",
       " Row(course='MVC', gender='Male', age=28, count=38, dummy=2800)]"
      ]
     },
     "execution_count": 55,
     "metadata": {},
     "output_type": "execute_result"
    }
   ],
   "source": [
    "\n",
    "rdd = df.rdd\n",
    "\n",
    "# COMMAND ----------\n",
    "\n",
    "type(rdd)\n",
    "\n",
    "# COMMAND ----------\n",
    "\n",
    "rdd.collect()\n",
    "\n",
    "# COMMAND ----------\n",
    "\n",
    "rdd.filter(lambda x: x[0] == 28 ).collect()\n",
    "\n",
    "# COMMAND ----------\n",
    "\n",
    "rdd.filter(lambda x: x[\"gender\"] == \"Male\" ).collect()"
   ]
  },
  {
   "cell_type": "code",
   "execution_count": 56,
   "id": "7524c3d4",
   "metadata": {},
   "outputs": [
    {
     "data": {
      "text/plain": [
       "[Row(course='DSA', gender='Female', age=28, count=47, dummy=2800),\n",
       " Row(course='PF', gender='Female', age=28, count=35, dummy=2800),\n",
       " Row(course='MVC', gender='Female', age=28, count=34, dummy=2800),\n",
       " Row(course='DB', gender='Male', age=28, count=42, dummy=2800),\n",
       " Row(course='OOP', gender='Female', age=28, count=43, dummy=2800),\n",
       " Row(course='Cloud', gender='Female', age=28, count=57, dummy=2800),\n",
       " Row(course='PF', gender='Male', age=28, count=44, dummy=2800),\n",
       " Row(course='DSA', gender='Male', age=28, count=36, dummy=2800),\n",
       " Row(course='DB', gender='Female', age=28, count=40, dummy=2800),\n",
       " Row(course='OOP', gender='Male', age=28, count=35, dummy=2800),\n",
       " Row(course='Cloud', gender='Male', age=28, count=43, dummy=2800),\n",
       " Row(course='MVC', gender='Male', age=28, count=38, dummy=2800)]"
      ]
     },
     "execution_count": 56,
     "metadata": {},
     "output_type": "execute_result"
    }
   ],
   "source": [
    "rdd.filter(lambda x: x[2] == 28 ).collect()\n"
   ]
  },
  {
   "cell_type": "markdown",
   "id": "4eefba12",
   "metadata": {},
   "source": [
    "## SPARK SQL"
   ]
  },
  {
   "cell_type": "code",
   "execution_count": 57,
   "id": "67d177d0",
   "metadata": {},
   "outputs": [
    {
     "name": "stdout",
     "output_type": "stream",
     "text": [
      "+------+------+--------+\n",
      "|course|gender|count(1)|\n",
      "+------+------+--------+\n",
      "|   OOP|  Male|       2|\n",
      "|    DB|  Male|       2|\n",
      "| Cloud|Female|       2|\n",
      "|   MVC|  Male|       2|\n",
      "|   DSA|Female|       2|\n",
      "|    PF|  Male|       2|\n",
      "|   MVC|Female|       2|\n",
      "| Cloud|  Male|       2|\n",
      "|    PF|Female|       2|\n",
      "|   DSA|  Male|       2|\n",
      "|    DB|Female|       2|\n",
      "|   OOP|Female|       2|\n",
      "+------+------+--------+\n",
      "\n",
      "+------+------+-----+\n",
      "|course|gender|count|\n",
      "+------+------+-----+\n",
      "|   OOP|  Male|    2|\n",
      "|    DB|  Male|    2|\n",
      "| Cloud|Female|    2|\n",
      "|   MVC|  Male|    2|\n",
      "|   DSA|Female|    2|\n",
      "|    PF|  Male|    2|\n",
      "|   MVC|Female|    2|\n",
      "| Cloud|  Male|    2|\n",
      "|    PF|Female|    2|\n",
      "|   DSA|  Male|    2|\n",
      "|    DB|Female|    2|\n",
      "|   OOP|Female|    2|\n",
      "+------+------+-----+\n",
      "\n"
     ]
    }
   ],
   "source": [
    "df.createOrReplaceTempView(\"Student\")\n",
    "\n",
    "# COMMAND ----------\n",
    "\n",
    "spark.sql(\"select course, gender, count(*) from Student group by course, gender\").show()\n",
    "df.groupBy(\"course\", \"gender\").count().show()"
   ]
  },
  {
   "cell_type": "code",
   "execution_count": 58,
   "id": "17344cc9",
   "metadata": {},
   "outputs": [],
   "source": [
    "df = spark.read.options(header='True', inferSchema='True').csv('/user/itv001290/StudentData.csv')\n"
   ]
  },
  {
   "cell_type": "code",
   "execution_count": 59,
   "id": "3f4446b6",
   "metadata": {},
   "outputs": [],
   "source": [
    "df.createOrReplaceTempView(\"Student\")\n"
   ]
  },
  {
   "cell_type": "code",
   "execution_count": 61,
   "id": "754c1b00",
   "metadata": {},
   "outputs": [
    {
     "name": "stdout",
     "output_type": "stream",
     "text": [
      "+------+------+----------+\n",
      "|gender|course|sum(marks)|\n",
      "+------+------+----------+\n",
      "|  Male|   OOP|      4234|\n",
      "|  Male|    DB|      5073|\n",
      "|Female| Cloud|      6316|\n",
      "|  Male|   MVC|      5241|\n",
      "|Female|   DSA|      6124|\n",
      "|  Male|    PF|      5960|\n",
      "|Female|   MVC|      4344|\n",
      "|  Male| Cloud|      5127|\n",
      "|Female|    PF|      3973|\n",
      "|  Male|   DSA|      4826|\n",
      "|Female|    DB|      4197|\n",
      "|Female|   OOP|      4682|\n",
      "+------+------+----------+\n",
      "\n"
     ]
    }
   ],
   "source": [
    "spark.sql(\"select gender,course,sum(marks) from Student group by course,gender \").show()\n"
   ]
  },
  {
   "cell_type": "code",
   "execution_count": 63,
   "id": "a875b601",
   "metadata": {},
   "outputs": [
    {
     "name": "stdout",
     "output_type": "stream",
     "text": [
      "+-------------+----------+-----+------+---+-----+\n",
      "|employee_name|department|state|salary|age|bonus|\n",
      "+-------------+----------+-----+------+---+-----+\n",
      "|        James|     Sales|   NY| 90000| 34|10000|\n",
      "|      Michael|     Sales|   NY| 86000| 56|20000|\n",
      "|       Robert|     Sales|   CA| 81000| 30|23000|\n",
      "|        Maria|   Finance|   CA| 90000| 24|23000|\n",
      "|        Raman|   Finance|   CA| 99000| 40|24000|\n",
      "|        Scott|   Finance|   NY| 83000| 36|19000|\n",
      "|          Jen|   Finance|   NY| 79000| 53|15000|\n",
      "|         Jeff| Marketing|   CA| 80000| 25|18000|\n",
      "|        Kumar| Marketing|   NY| 91000| 50|21000|\n",
      "+-------------+----------+-----+------+---+-----+\n",
      "\n",
      "+-------------+----------+-----+------+---+-----+---------+\n",
      "|employee_name|department|state|salary|age|bonus|increment|\n",
      "+-------------+----------+-----+------+---+-----+---------+\n",
      "|        James|     Sales|   NY| 90000| 34|10000|   9500.0|\n",
      "|      Michael|     Sales|   NY| 86000| 56|20000|   9600.0|\n",
      "|       Robert|     Sales|   CA| 81000| 30|23000|  10410.0|\n",
      "|        Maria|   Finance|   CA| 90000| 24|23000|  11490.0|\n",
      "|        Raman|   Finance|   CA| 99000| 40|24000|  12600.0|\n",
      "|        Scott|   Finance|   NY| 83000| 36|19000|   9250.0|\n",
      "|          Jen|   Finance|   NY| 79000| 53|15000|   8650.0|\n",
      "|         Jeff| Marketing|   CA| 80000| 25|18000|  10140.0|\n",
      "|        Kumar| Marketing|   NY| 91000| 50|21000|  10150.0|\n",
      "+-------------+----------+-----+------+---+-----+---------+\n",
      "\n"
     ]
    }
   ],
   "source": [
    "from pyspark.sql import SparkSession\n",
    "from pyspark.sql.functions import col, lit, udf\n",
    "from pyspark.sql.types import DoubleType\n",
    "spark = SparkSession.builder.appName(\"Spark DataFrames\").getOrCreate()\n",
    "\n",
    "# COMMAND ----------\n",
    "\n",
    "df = spark.read.options(header='True', inferSchema='True').csv('/user/itv001290/OfficeData.csv')\n",
    "df.show()\n",
    "\n",
    "# COMMAND ----------\n",
    "\n",
    "def get_incr(state, salary, bonus):\n",
    "  sum = 0\n",
    "  if state == \"NY\":\n",
    "    sum = salary * 0.10\n",
    "    sum += bonus * 0.05\n",
    "  elif state == \"CA\":\n",
    "    sum = salary * 0.12\n",
    "    sum += bonus * 0.03\n",
    "  return sum\n",
    "\n",
    "incrUDF = udf(lambda x,y,z: get_incr(x,y,z), DoubleType())\n",
    "\n",
    "df.withColumn(\"increment\", incrUDF(df.state, df.salary, df.bonus)).show()"
   ]
  },
  {
   "cell_type": "code",
   "execution_count": null,
   "id": "18154751",
   "metadata": {},
   "outputs": [],
   "source": []
  }
 ],
 "metadata": {
  "kernelspec": {
   "display_name": "Pyspark 3",
   "language": "python",
   "name": "pyspark3"
  },
  "language_info": {
   "codemirror_mode": {
    "name": "ipython",
    "version": 3
   },
   "file_extension": ".py",
   "mimetype": "text/x-python",
   "name": "python",
   "nbconvert_exporter": "python",
   "pygments_lexer": "ipython3",
   "version": "3.6.12"
  }
 },
 "nbformat": 4,
 "nbformat_minor": 5
}
